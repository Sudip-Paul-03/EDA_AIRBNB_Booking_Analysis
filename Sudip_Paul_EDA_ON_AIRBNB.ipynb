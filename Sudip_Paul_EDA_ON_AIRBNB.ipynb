{
  "nbformat": 4,
  "nbformat_minor": 0,
  "metadata": {
    "colab": {
      "provenance": [],
      "collapsed_sections": [
        "vncDsAP0Gaoa",
        "FJNUwmbgGyua",
        "Y3lxredqlCYt",
        "3RnN4peoiCZX",
        "x71ZqKXriCWQ",
        "7hBIi_osiCS2",
        "JlHwYmJAmNHm",
        "35m5QtbWiB9F",
        "PoPl-ycgm1ru",
        "nA9Y7ga8ng1Z",
        "u3PMJOP6ngxN",
        "dauF4eBmngu3",
        "bKJF3rekwFvQ",
        "MSa1f5Uengrz",
        "GF8Ens_Soomf",
        "QHF8YVU7Yuh3",
        "t27r6nlMphqO",
        "r2jJGEOYphqO",
        "BZR9WyysphqO",
        "n3dbpmDWp1ck",
        "0lDatvhWz-LW",
        "-BF_VUTG08ul",
        "IOoUjYyQ2Dkc",
        "gIfDvo9L0UH2"
      ],
      "include_colab_link": true
    },
    "kernelspec": {
      "name": "python3",
      "display_name": "Python 3"
    },
    "language_info": {
      "name": "python"
    },
    "gpuClass": "standard"
  },
  "cells": [
    {
      "cell_type": "markdown",
      "metadata": {
        "id": "view-in-github",
        "colab_type": "text"
      },
      "source": [
        "<a href=\"https://colab.research.google.com/github/Sudip-Paul-03/EDA_AIRBNB_Booking_Analysis/blob/main/Sudip_Paul_EDA_ON_AIRBNB.ipynb\" target=\"_parent\"><img src=\"https://colab.research.google.com/assets/colab-badge.svg\" alt=\"Open In Colab\"/></a>"
      ]
    },
    {
      "cell_type": "markdown",
      "source": [
        "![Airbnb_Logo_Bélo.svg](data:image/svg+xml;base64,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)"
      ],
      "metadata": {
        "id": "GmhxZ5-iIX9J"
      }
    },
    {
      "cell_type": "markdown",
      "source": [
        "# **AirBnb Booking Analysis**    -\n"
      ],
      "metadata": {
        "id": "vncDsAP0Gaoa"
      }
    },
    {
      "cell_type": "markdown",
      "source": [
        "##### **Project Type**    - EDA\n",
        "##### **Contribution**    - Team\n",
        "##### **Team Member 1 -** Sudip Paul\n",
        "##### **Team Member 2 -** Bhupesh\n",
        "##### **Team Member 3 -** Pooja Bramhavanshi\n",
        "##### **Team Member 4 -** Sharik\n",
        "##### **Team Member 5 -** Siddharth"
      ],
      "metadata": {
        "id": "beRrZCGUAJYm"
      }
    },
    {
      "cell_type": "markdown",
      "source": [
        "# **Project Summary -**"
      ],
      "metadata": {
        "id": "FJNUwmbgGyua"
      }
    },
    {
      "cell_type": "markdown",
      "source": [
        "## Since 2008, guests and hosts have used Airbnb to expand on traveling possibilities and present a more unique, personalized way of experiencing the world. Today, Airbnb became one of a kind service that is used and recognized by the whole world. Data analysis on millions of listings provided through Airbnb is a crucial factor for the company. These millions of listings generate a lot of data - data that can be analyzed and used for security, business decisions, understanding of customers' and providers' (hosts) behavior and performance on the platform, guiding marketing initiatives, implementation of innovative additional services and much more.\n",
        "#This dataset has around 49,000 observations in it with 16 columns and it is a mix between categorical and numeric values."
      ],
      "metadata": {
        "id": "F6v_1wHtG2nS"
      }
    },
    {
      "cell_type": "markdown",
      "source": [
        "# **GitHub Link -**"
      ],
      "metadata": {
        "id": "w6K7xa23Elo4"
      }
    },
    {
      "cell_type": "markdown",
      "source": [
        "https://github.com/Sudip-Paul-03/EDA_AIRBNB_Booking_Analysis"
      ],
      "metadata": {
        "id": "h1o69JH3Eqqn"
      }
    },
    {
      "cell_type": "markdown",
      "source": [
        "# **Problem Statement**\n"
      ],
      "metadata": {
        "id": "yQaldy8SH6Dl"
      }
    },
    {
      "cell_type": "markdown",
      "source": [
        "We are going to explore the AIRBNB bookings data of New York city in 2019 and we will see at what price range, which types of properties are booked, what is the most popular neighbourhood group and where the revenue is maximum?"
      ],
      "metadata": {
        "id": "DpeJGUA3kjGy"
      }
    },
    {
      "cell_type": "markdown",
      "source": [
        "#### **Define Your Business Objective?**"
      ],
      "metadata": {
        "id": "PH-0ReGfmX4f"
      }
    },
    {
      "cell_type": "markdown",
      "source": [
        "We have got a set of data, in this data I am going to look into the price of booking of AIRBNBs in different neighbourhood area and then we are going to decide what typpe of property in New York in which area can generate maximum revenue for any hosts."
      ],
      "metadata": {
        "id": "PhDvGCAqmjP1"
      }
    },
    {
      "cell_type": "markdown",
      "source": [
        "# ***Let's Begin !***"
      ],
      "metadata": {
        "id": "O_i_v8NEhb9l"
      }
    },
    {
      "cell_type": "markdown",
      "source": [
        "## ***1. Know Your Data***"
      ],
      "metadata": {
        "id": "HhfV-JJviCcP"
      }
    },
    {
      "cell_type": "markdown",
      "source": [
        "### Import Libraries"
      ],
      "metadata": {
        "id": "Y3lxredqlCYt"
      }
    },
    {
      "cell_type": "code",
      "source": [
        "# Import Libraries\n",
        "import pandas as pd\n",
        "import numpy as np\n",
        "from datetime import datetime\n",
        "import missingno as msno # searched from google\n",
        "import matplotlib.pyplot as plt\n",
        "%matplotlib inline\n",
        "from datetime import datetime\n",
        "import seaborn as sns"
      ],
      "metadata": {
        "id": "M8Vqi-pPk-HR"
      },
      "execution_count": 1,
      "outputs": []
    },
    {
      "cell_type": "markdown",
      "source": [
        "### Dataset Loading"
      ],
      "metadata": {
        "id": "3RnN4peoiCZX"
      }
    },
    {
      "cell_type": "code",
      "source": [
        "# Load Dataset\n",
        "from google.colab import drive\n",
        "drive.mount('/content/drive', force_remount = True)"
      ],
      "metadata": {
        "id": "4CkvbW_SlZ_R",
        "colab": {
          "base_uri": "https://localhost:8080/"
        },
        "outputId": "a17d5d6c-0eb5-4097-9e45-c90ca3b53624"
      },
      "execution_count": 2,
      "outputs": [
        {
          "output_type": "stream",
          "name": "stdout",
          "text": [
            "Mounted at /content/drive\n"
          ]
        }
      ]
    },
    {
      "cell_type": "code",
      "source": [
        "file_path = '/content/drive/MyDrive/Colab Notebooks/EDA Project/Airbnb NYC 2019.csv'\n",
        "df=pd.read_csv(file_path)"
      ],
      "metadata": {
        "id": "fr0hKobon9nh"
      },
      "execution_count": 3,
      "outputs": []
    },
    {
      "cell_type": "markdown",
      "source": [
        "### Dataset First View"
      ],
      "metadata": {
        "id": "x71ZqKXriCWQ"
      }
    },
    {
      "cell_type": "code",
      "source": [
        "# Dataset First Look\n",
        "df.head()"
      ],
      "metadata": {
        "id": "LWNFOSvLl09H",
        "colab": {
          "base_uri": "https://localhost:8080/",
          "height": 461
        },
        "outputId": "b596a443-2366-4566-e950-9023bb0a3ff5"
      },
      "execution_count": 4,
      "outputs": [
        {
          "output_type": "execute_result",
          "data": {
            "text/plain": [
              "     id                                              name  host_id  \\\n",
              "0  2539                Clean & quiet apt home by the park     2787   \n",
              "1  2595                             Skylit Midtown Castle     2845   \n",
              "2  3647               THE VILLAGE OF HARLEM....NEW YORK !     4632   \n",
              "3  3831                   Cozy Entire Floor of Brownstone     4869   \n",
              "4  5022  Entire Apt: Spacious Studio/Loft by central park     7192   \n",
              "\n",
              "     host_name neighbourhood_group neighbourhood  latitude  longitude  \\\n",
              "0         John            Brooklyn    Kensington  40.64749  -73.97237   \n",
              "1     Jennifer           Manhattan       Midtown  40.75362  -73.98377   \n",
              "2    Elisabeth           Manhattan        Harlem  40.80902  -73.94190   \n",
              "3  LisaRoxanne            Brooklyn  Clinton Hill  40.68514  -73.95976   \n",
              "4        Laura           Manhattan   East Harlem  40.79851  -73.94399   \n",
              "\n",
              "         room_type  price  minimum_nights  number_of_reviews last_review  \\\n",
              "0     Private room    149               1                  9  2018-10-19   \n",
              "1  Entire home/apt    225               1                 45  2019-05-21   \n",
              "2     Private room    150               3                  0         NaN   \n",
              "3  Entire home/apt     89               1                270  2019-07-05   \n",
              "4  Entire home/apt     80              10                  9  2018-11-19   \n",
              "\n",
              "   reviews_per_month  calculated_host_listings_count  availability_365  \n",
              "0               0.21                               6               365  \n",
              "1               0.38                               2               355  \n",
              "2                NaN                               1               365  \n",
              "3               4.64                               1               194  \n",
              "4               0.10                               1                 0  "
            ],
            "text/html": [
              "\n",
              "\n",
              "  <div id=\"df-ea12c5a6-953e-4eab-a328-c31390153d23\">\n",
              "    <div class=\"colab-df-container\">\n",
              "      <div>\n",
              "<style scoped>\n",
              "    .dataframe tbody tr th:only-of-type {\n",
              "        vertical-align: middle;\n",
              "    }\n",
              "\n",
              "    .dataframe tbody tr th {\n",
              "        vertical-align: top;\n",
              "    }\n",
              "\n",
              "    .dataframe thead th {\n",
              "        text-align: right;\n",
              "    }\n",
              "</style>\n",
              "<table border=\"1\" class=\"dataframe\">\n",
              "  <thead>\n",
              "    <tr style=\"text-align: right;\">\n",
              "      <th></th>\n",
              "      <th>id</th>\n",
              "      <th>name</th>\n",
              "      <th>host_id</th>\n",
              "      <th>host_name</th>\n",
              "      <th>neighbourhood_group</th>\n",
              "      <th>neighbourhood</th>\n",
              "      <th>latitude</th>\n",
              "      <th>longitude</th>\n",
              "      <th>room_type</th>\n",
              "      <th>price</th>\n",
              "      <th>minimum_nights</th>\n",
              "      <th>number_of_reviews</th>\n",
              "      <th>last_review</th>\n",
              "      <th>reviews_per_month</th>\n",
              "      <th>calculated_host_listings_count</th>\n",
              "      <th>availability_365</th>\n",
              "    </tr>\n",
              "  </thead>\n",
              "  <tbody>\n",
              "    <tr>\n",
              "      <th>0</th>\n",
              "      <td>2539</td>\n",
              "      <td>Clean &amp; quiet apt home by the park</td>\n",
              "      <td>2787</td>\n",
              "      <td>John</td>\n",
              "      <td>Brooklyn</td>\n",
              "      <td>Kensington</td>\n",
              "      <td>40.64749</td>\n",
              "      <td>-73.97237</td>\n",
              "      <td>Private room</td>\n",
              "      <td>149</td>\n",
              "      <td>1</td>\n",
              "      <td>9</td>\n",
              "      <td>2018-10-19</td>\n",
              "      <td>0.21</td>\n",
              "      <td>6</td>\n",
              "      <td>365</td>\n",
              "    </tr>\n",
              "    <tr>\n",
              "      <th>1</th>\n",
              "      <td>2595</td>\n",
              "      <td>Skylit Midtown Castle</td>\n",
              "      <td>2845</td>\n",
              "      <td>Jennifer</td>\n",
              "      <td>Manhattan</td>\n",
              "      <td>Midtown</td>\n",
              "      <td>40.75362</td>\n",
              "      <td>-73.98377</td>\n",
              "      <td>Entire home/apt</td>\n",
              "      <td>225</td>\n",
              "      <td>1</td>\n",
              "      <td>45</td>\n",
              "      <td>2019-05-21</td>\n",
              "      <td>0.38</td>\n",
              "      <td>2</td>\n",
              "      <td>355</td>\n",
              "    </tr>\n",
              "    <tr>\n",
              "      <th>2</th>\n",
              "      <td>3647</td>\n",
              "      <td>THE VILLAGE OF HARLEM....NEW YORK !</td>\n",
              "      <td>4632</td>\n",
              "      <td>Elisabeth</td>\n",
              "      <td>Manhattan</td>\n",
              "      <td>Harlem</td>\n",
              "      <td>40.80902</td>\n",
              "      <td>-73.94190</td>\n",
              "      <td>Private room</td>\n",
              "      <td>150</td>\n",
              "      <td>3</td>\n",
              "      <td>0</td>\n",
              "      <td>NaN</td>\n",
              "      <td>NaN</td>\n",
              "      <td>1</td>\n",
              "      <td>365</td>\n",
              "    </tr>\n",
              "    <tr>\n",
              "      <th>3</th>\n",
              "      <td>3831</td>\n",
              "      <td>Cozy Entire Floor of Brownstone</td>\n",
              "      <td>4869</td>\n",
              "      <td>LisaRoxanne</td>\n",
              "      <td>Brooklyn</td>\n",
              "      <td>Clinton Hill</td>\n",
              "      <td>40.68514</td>\n",
              "      <td>-73.95976</td>\n",
              "      <td>Entire home/apt</td>\n",
              "      <td>89</td>\n",
              "      <td>1</td>\n",
              "      <td>270</td>\n",
              "      <td>2019-07-05</td>\n",
              "      <td>4.64</td>\n",
              "      <td>1</td>\n",
              "      <td>194</td>\n",
              "    </tr>\n",
              "    <tr>\n",
              "      <th>4</th>\n",
              "      <td>5022</td>\n",
              "      <td>Entire Apt: Spacious Studio/Loft by central park</td>\n",
              "      <td>7192</td>\n",
              "      <td>Laura</td>\n",
              "      <td>Manhattan</td>\n",
              "      <td>East Harlem</td>\n",
              "      <td>40.79851</td>\n",
              "      <td>-73.94399</td>\n",
              "      <td>Entire home/apt</td>\n",
              "      <td>80</td>\n",
              "      <td>10</td>\n",
              "      <td>9</td>\n",
              "      <td>2018-11-19</td>\n",
              "      <td>0.10</td>\n",
              "      <td>1</td>\n",
              "      <td>0</td>\n",
              "    </tr>\n",
              "  </tbody>\n",
              "</table>\n",
              "</div>\n",
              "      <button class=\"colab-df-convert\" onclick=\"convertToInteractive('df-ea12c5a6-953e-4eab-a328-c31390153d23')\"\n",
              "              title=\"Convert this dataframe to an interactive table.\"\n",
              "              style=\"display:none;\">\n",
              "\n",
              "  <svg xmlns=\"http://www.w3.org/2000/svg\" height=\"24px\"viewBox=\"0 0 24 24\"\n",
              "       width=\"24px\">\n",
              "    <path d=\"M0 0h24v24H0V0z\" fill=\"none\"/>\n",
              "    <path d=\"M18.56 5.44l.94 2.06.94-2.06 2.06-.94-2.06-.94-.94-2.06-.94 2.06-2.06.94zm-11 1L8.5 8.5l.94-2.06 2.06-.94-2.06-.94L8.5 2.5l-.94 2.06-2.06.94zm10 10l.94 2.06.94-2.06 2.06-.94-2.06-.94-.94-2.06-.94 2.06-2.06.94z\"/><path d=\"M17.41 7.96l-1.37-1.37c-.4-.4-.92-.59-1.43-.59-.52 0-1.04.2-1.43.59L10.3 9.45l-7.72 7.72c-.78.78-.78 2.05 0 2.83L4 21.41c.39.39.9.59 1.41.59.51 0 1.02-.2 1.41-.59l7.78-7.78 2.81-2.81c.8-.78.8-2.07 0-2.86zM5.41 20L4 18.59l7.72-7.72 1.47 1.35L5.41 20z\"/>\n",
              "  </svg>\n",
              "      </button>\n",
              "\n",
              "\n",
              "\n",
              "    <div id=\"df-66f1868f-1fc2-4448-9b77-bddbd8fa44ef\">\n",
              "      <button class=\"colab-df-quickchart\" onclick=\"quickchart('df-66f1868f-1fc2-4448-9b77-bddbd8fa44ef')\"\n",
              "              title=\"Suggest charts.\"\n",
              "              style=\"display:none;\">\n",
              "\n",
              "<svg xmlns=\"http://www.w3.org/2000/svg\" height=\"24px\"viewBox=\"0 0 24 24\"\n",
              "     width=\"24px\">\n",
              "    <g>\n",
              "        <path d=\"M19 3H5c-1.1 0-2 .9-2 2v14c0 1.1.9 2 2 2h14c1.1 0 2-.9 2-2V5c0-1.1-.9-2-2-2zM9 17H7v-7h2v7zm4 0h-2V7h2v10zm4 0h-2v-4h2v4z\"/>\n",
              "    </g>\n",
              "</svg>\n",
              "      </button>\n",
              "    </div>\n",
              "\n",
              "<style>\n",
              "  .colab-df-quickchart {\n",
              "    background-color: #E8F0FE;\n",
              "    border: none;\n",
              "    border-radius: 50%;\n",
              "    cursor: pointer;\n",
              "    display: none;\n",
              "    fill: #1967D2;\n",
              "    height: 32px;\n",
              "    padding: 0 0 0 0;\n",
              "    width: 32px;\n",
              "  }\n",
              "\n",
              "  .colab-df-quickchart:hover {\n",
              "    background-color: #E2EBFA;\n",
              "    box-shadow: 0px 1px 2px rgba(60, 64, 67, 0.3), 0px 1px 3px 1px rgba(60, 64, 67, 0.15);\n",
              "    fill: #174EA6;\n",
              "  }\n",
              "\n",
              "  [theme=dark] .colab-df-quickchart {\n",
              "    background-color: #3B4455;\n",
              "    fill: #D2E3FC;\n",
              "  }\n",
              "\n",
              "  [theme=dark] .colab-df-quickchart:hover {\n",
              "    background-color: #434B5C;\n",
              "    box-shadow: 0px 1px 3px 1px rgba(0, 0, 0, 0.15);\n",
              "    filter: drop-shadow(0px 1px 2px rgba(0, 0, 0, 0.3));\n",
              "    fill: #FFFFFF;\n",
              "  }\n",
              "</style>\n",
              "\n",
              "    <script>\n",
              "      async function quickchart(key) {\n",
              "        const containerElement = document.querySelector('#' + key);\n",
              "        const charts = await google.colab.kernel.invokeFunction(\n",
              "            'suggestCharts', [key], {});\n",
              "      }\n",
              "    </script>\n",
              "\n",
              "      <script>\n",
              "\n",
              "function displayQuickchartButton(domScope) {\n",
              "  let quickchartButtonEl =\n",
              "    domScope.querySelector('#df-66f1868f-1fc2-4448-9b77-bddbd8fa44ef button.colab-df-quickchart');\n",
              "  quickchartButtonEl.style.display =\n",
              "    google.colab.kernel.accessAllowed ? 'block' : 'none';\n",
              "}\n",
              "\n",
              "        displayQuickchartButton(document);\n",
              "      </script>\n",
              "      <style>\n",
              "    .colab-df-container {\n",
              "      display:flex;\n",
              "      flex-wrap:wrap;\n",
              "      gap: 12px;\n",
              "    }\n",
              "\n",
              "    .colab-df-convert {\n",
              "      background-color: #E8F0FE;\n",
              "      border: none;\n",
              "      border-radius: 50%;\n",
              "      cursor: pointer;\n",
              "      display: none;\n",
              "      fill: #1967D2;\n",
              "      height: 32px;\n",
              "      padding: 0 0 0 0;\n",
              "      width: 32px;\n",
              "    }\n",
              "\n",
              "    .colab-df-convert:hover {\n",
              "      background-color: #E2EBFA;\n",
              "      box-shadow: 0px 1px 2px rgba(60, 64, 67, 0.3), 0px 1px 3px 1px rgba(60, 64, 67, 0.15);\n",
              "      fill: #174EA6;\n",
              "    }\n",
              "\n",
              "    [theme=dark] .colab-df-convert {\n",
              "      background-color: #3B4455;\n",
              "      fill: #D2E3FC;\n",
              "    }\n",
              "\n",
              "    [theme=dark] .colab-df-convert:hover {\n",
              "      background-color: #434B5C;\n",
              "      box-shadow: 0px 1px 3px 1px rgba(0, 0, 0, 0.15);\n",
              "      filter: drop-shadow(0px 1px 2px rgba(0, 0, 0, 0.3));\n",
              "      fill: #FFFFFF;\n",
              "    }\n",
              "  </style>\n",
              "\n",
              "      <script>\n",
              "        const buttonEl =\n",
              "          document.querySelector('#df-ea12c5a6-953e-4eab-a328-c31390153d23 button.colab-df-convert');\n",
              "        buttonEl.style.display =\n",
              "          google.colab.kernel.accessAllowed ? 'block' : 'none';\n",
              "\n",
              "        async function convertToInteractive(key) {\n",
              "          const element = document.querySelector('#df-ea12c5a6-953e-4eab-a328-c31390153d23');\n",
              "          const dataTable =\n",
              "            await google.colab.kernel.invokeFunction('convertToInteractive',\n",
              "                                                     [key], {});\n",
              "          if (!dataTable) return;\n",
              "\n",
              "          const docLinkHtml = 'Like what you see? Visit the ' +\n",
              "            '<a target=\"_blank\" href=https://colab.research.google.com/notebooks/data_table.ipynb>data table notebook</a>'\n",
              "            + ' to learn more about interactive tables.';\n",
              "          element.innerHTML = '';\n",
              "          dataTable['output_type'] = 'display_data';\n",
              "          await google.colab.output.renderOutput(dataTable, element);\n",
              "          const docLink = document.createElement('div');\n",
              "          docLink.innerHTML = docLinkHtml;\n",
              "          element.appendChild(docLink);\n",
              "        }\n",
              "      </script>\n",
              "    </div>\n",
              "  </div>\n"
            ]
          },
          "metadata": {},
          "execution_count": 4
        }
      ]
    },
    {
      "cell_type": "code",
      "source": [
        "# Dataset last five row look\n",
        "df.tail()"
      ],
      "metadata": {
        "colab": {
          "base_uri": "https://localhost:8080/",
          "height": 513
        },
        "id": "vh0EZvxwI2Ob",
        "outputId": "677b6f42-7f97-42c4-8292-7b8a89348635"
      },
      "execution_count": 5,
      "outputs": [
        {
          "output_type": "execute_result",
          "data": {
            "text/plain": [
              "             id                                               name   host_id  \\\n",
              "48890  36484665    Charming one bedroom - newly renovated rowhouse   8232441   \n",
              "48891  36485057      Affordable room in Bushwick/East Williamsburg   6570630   \n",
              "48892  36485431            Sunny Studio at Historical Neighborhood  23492952   \n",
              "48893  36485609               43rd St. Time Square-cozy single bed  30985759   \n",
              "48894  36487245  Trendy duplex in the very heart of Hell's Kitchen  68119814   \n",
              "\n",
              "           host_name neighbourhood_group       neighbourhood  latitude  \\\n",
              "48890        Sabrina            Brooklyn  Bedford-Stuyvesant  40.67853   \n",
              "48891        Marisol            Brooklyn            Bushwick  40.70184   \n",
              "48892  Ilgar & Aysel           Manhattan              Harlem  40.81475   \n",
              "48893            Taz           Manhattan      Hell's Kitchen  40.75751   \n",
              "48894     Christophe           Manhattan      Hell's Kitchen  40.76404   \n",
              "\n",
              "       longitude        room_type  price  minimum_nights  number_of_reviews  \\\n",
              "48890  -73.94995     Private room     70               2                  0   \n",
              "48891  -73.93317     Private room     40               4                  0   \n",
              "48892  -73.94867  Entire home/apt    115              10                  0   \n",
              "48893  -73.99112      Shared room     55               1                  0   \n",
              "48894  -73.98933     Private room     90               7                  0   \n",
              "\n",
              "      last_review  reviews_per_month  calculated_host_listings_count  \\\n",
              "48890         NaN                NaN                               2   \n",
              "48891         NaN                NaN                               2   \n",
              "48892         NaN                NaN                               1   \n",
              "48893         NaN                NaN                               6   \n",
              "48894         NaN                NaN                               1   \n",
              "\n",
              "       availability_365  \n",
              "48890                 9  \n",
              "48891                36  \n",
              "48892                27  \n",
              "48893                 2  \n",
              "48894                23  "
            ],
            "text/html": [
              "\n",
              "\n",
              "  <div id=\"df-066c34e4-b482-4a6d-aed6-9d7a190b2db2\">\n",
              "    <div class=\"colab-df-container\">\n",
              "      <div>\n",
              "<style scoped>\n",
              "    .dataframe tbody tr th:only-of-type {\n",
              "        vertical-align: middle;\n",
              "    }\n",
              "\n",
              "    .dataframe tbody tr th {\n",
              "        vertical-align: top;\n",
              "    }\n",
              "\n",
              "    .dataframe thead th {\n",
              "        text-align: right;\n",
              "    }\n",
              "</style>\n",
              "<table border=\"1\" class=\"dataframe\">\n",
              "  <thead>\n",
              "    <tr style=\"text-align: right;\">\n",
              "      <th></th>\n",
              "      <th>id</th>\n",
              "      <th>name</th>\n",
              "      <th>host_id</th>\n",
              "      <th>host_name</th>\n",
              "      <th>neighbourhood_group</th>\n",
              "      <th>neighbourhood</th>\n",
              "      <th>latitude</th>\n",
              "      <th>longitude</th>\n",
              "      <th>room_type</th>\n",
              "      <th>price</th>\n",
              "      <th>minimum_nights</th>\n",
              "      <th>number_of_reviews</th>\n",
              "      <th>last_review</th>\n",
              "      <th>reviews_per_month</th>\n",
              "      <th>calculated_host_listings_count</th>\n",
              "      <th>availability_365</th>\n",
              "    </tr>\n",
              "  </thead>\n",
              "  <tbody>\n",
              "    <tr>\n",
              "      <th>48890</th>\n",
              "      <td>36484665</td>\n",
              "      <td>Charming one bedroom - newly renovated rowhouse</td>\n",
              "      <td>8232441</td>\n",
              "      <td>Sabrina</td>\n",
              "      <td>Brooklyn</td>\n",
              "      <td>Bedford-Stuyvesant</td>\n",
              "      <td>40.67853</td>\n",
              "      <td>-73.94995</td>\n",
              "      <td>Private room</td>\n",
              "      <td>70</td>\n",
              "      <td>2</td>\n",
              "      <td>0</td>\n",
              "      <td>NaN</td>\n",
              "      <td>NaN</td>\n",
              "      <td>2</td>\n",
              "      <td>9</td>\n",
              "    </tr>\n",
              "    <tr>\n",
              "      <th>48891</th>\n",
              "      <td>36485057</td>\n",
              "      <td>Affordable room in Bushwick/East Williamsburg</td>\n",
              "      <td>6570630</td>\n",
              "      <td>Marisol</td>\n",
              "      <td>Brooklyn</td>\n",
              "      <td>Bushwick</td>\n",
              "      <td>40.70184</td>\n",
              "      <td>-73.93317</td>\n",
              "      <td>Private room</td>\n",
              "      <td>40</td>\n",
              "      <td>4</td>\n",
              "      <td>0</td>\n",
              "      <td>NaN</td>\n",
              "      <td>NaN</td>\n",
              "      <td>2</td>\n",
              "      <td>36</td>\n",
              "    </tr>\n",
              "    <tr>\n",
              "      <th>48892</th>\n",
              "      <td>36485431</td>\n",
              "      <td>Sunny Studio at Historical Neighborhood</td>\n",
              "      <td>23492952</td>\n",
              "      <td>Ilgar &amp; Aysel</td>\n",
              "      <td>Manhattan</td>\n",
              "      <td>Harlem</td>\n",
              "      <td>40.81475</td>\n",
              "      <td>-73.94867</td>\n",
              "      <td>Entire home/apt</td>\n",
              "      <td>115</td>\n",
              "      <td>10</td>\n",
              "      <td>0</td>\n",
              "      <td>NaN</td>\n",
              "      <td>NaN</td>\n",
              "      <td>1</td>\n",
              "      <td>27</td>\n",
              "    </tr>\n",
              "    <tr>\n",
              "      <th>48893</th>\n",
              "      <td>36485609</td>\n",
              "      <td>43rd St. Time Square-cozy single bed</td>\n",
              "      <td>30985759</td>\n",
              "      <td>Taz</td>\n",
              "      <td>Manhattan</td>\n",
              "      <td>Hell's Kitchen</td>\n",
              "      <td>40.75751</td>\n",
              "      <td>-73.99112</td>\n",
              "      <td>Shared room</td>\n",
              "      <td>55</td>\n",
              "      <td>1</td>\n",
              "      <td>0</td>\n",
              "      <td>NaN</td>\n",
              "      <td>NaN</td>\n",
              "      <td>6</td>\n",
              "      <td>2</td>\n",
              "    </tr>\n",
              "    <tr>\n",
              "      <th>48894</th>\n",
              "      <td>36487245</td>\n",
              "      <td>Trendy duplex in the very heart of Hell's Kitchen</td>\n",
              "      <td>68119814</td>\n",
              "      <td>Christophe</td>\n",
              "      <td>Manhattan</td>\n",
              "      <td>Hell's Kitchen</td>\n",
              "      <td>40.76404</td>\n",
              "      <td>-73.98933</td>\n",
              "      <td>Private room</td>\n",
              "      <td>90</td>\n",
              "      <td>7</td>\n",
              "      <td>0</td>\n",
              "      <td>NaN</td>\n",
              "      <td>NaN</td>\n",
              "      <td>1</td>\n",
              "      <td>23</td>\n",
              "    </tr>\n",
              "  </tbody>\n",
              "</table>\n",
              "</div>\n",
              "      <button class=\"colab-df-convert\" onclick=\"convertToInteractive('df-066c34e4-b482-4a6d-aed6-9d7a190b2db2')\"\n",
              "              title=\"Convert this dataframe to an interactive table.\"\n",
              "              style=\"display:none;\">\n",
              "\n",
              "  <svg xmlns=\"http://www.w3.org/2000/svg\" height=\"24px\"viewBox=\"0 0 24 24\"\n",
              "       width=\"24px\">\n",
              "    <path d=\"M0 0h24v24H0V0z\" fill=\"none\"/>\n",
              "    <path d=\"M18.56 5.44l.94 2.06.94-2.06 2.06-.94-2.06-.94-.94-2.06-.94 2.06-2.06.94zm-11 1L8.5 8.5l.94-2.06 2.06-.94-2.06-.94L8.5 2.5l-.94 2.06-2.06.94zm10 10l.94 2.06.94-2.06 2.06-.94-2.06-.94-.94-2.06-.94 2.06-2.06.94z\"/><path d=\"M17.41 7.96l-1.37-1.37c-.4-.4-.92-.59-1.43-.59-.52 0-1.04.2-1.43.59L10.3 9.45l-7.72 7.72c-.78.78-.78 2.05 0 2.83L4 21.41c.39.39.9.59 1.41.59.51 0 1.02-.2 1.41-.59l7.78-7.78 2.81-2.81c.8-.78.8-2.07 0-2.86zM5.41 20L4 18.59l7.72-7.72 1.47 1.35L5.41 20z\"/>\n",
              "  </svg>\n",
              "      </button>\n",
              "\n",
              "\n",
              "\n",
              "    <div id=\"df-b2ece4ce-7668-4949-8d70-daa56e74d455\">\n",
              "      <button class=\"colab-df-quickchart\" onclick=\"quickchart('df-b2ece4ce-7668-4949-8d70-daa56e74d455')\"\n",
              "              title=\"Suggest charts.\"\n",
              "              style=\"display:none;\">\n",
              "\n",
              "<svg xmlns=\"http://www.w3.org/2000/svg\" height=\"24px\"viewBox=\"0 0 24 24\"\n",
              "     width=\"24px\">\n",
              "    <g>\n",
              "        <path d=\"M19 3H5c-1.1 0-2 .9-2 2v14c0 1.1.9 2 2 2h14c1.1 0 2-.9 2-2V5c0-1.1-.9-2-2-2zM9 17H7v-7h2v7zm4 0h-2V7h2v10zm4 0h-2v-4h2v4z\"/>\n",
              "    </g>\n",
              "</svg>\n",
              "      </button>\n",
              "    </div>\n",
              "\n",
              "<style>\n",
              "  .colab-df-quickchart {\n",
              "    background-color: #E8F0FE;\n",
              "    border: none;\n",
              "    border-radius: 50%;\n",
              "    cursor: pointer;\n",
              "    display: none;\n",
              "    fill: #1967D2;\n",
              "    height: 32px;\n",
              "    padding: 0 0 0 0;\n",
              "    width: 32px;\n",
              "  }\n",
              "\n",
              "  .colab-df-quickchart:hover {\n",
              "    background-color: #E2EBFA;\n",
              "    box-shadow: 0px 1px 2px rgba(60, 64, 67, 0.3), 0px 1px 3px 1px rgba(60, 64, 67, 0.15);\n",
              "    fill: #174EA6;\n",
              "  }\n",
              "\n",
              "  [theme=dark] .colab-df-quickchart {\n",
              "    background-color: #3B4455;\n",
              "    fill: #D2E3FC;\n",
              "  }\n",
              "\n",
              "  [theme=dark] .colab-df-quickchart:hover {\n",
              "    background-color: #434B5C;\n",
              "    box-shadow: 0px 1px 3px 1px rgba(0, 0, 0, 0.15);\n",
              "    filter: drop-shadow(0px 1px 2px rgba(0, 0, 0, 0.3));\n",
              "    fill: #FFFFFF;\n",
              "  }\n",
              "</style>\n",
              "\n",
              "    <script>\n",
              "      async function quickchart(key) {\n",
              "        const containerElement = document.querySelector('#' + key);\n",
              "        const charts = await google.colab.kernel.invokeFunction(\n",
              "            'suggestCharts', [key], {});\n",
              "      }\n",
              "    </script>\n",
              "\n",
              "      <script>\n",
              "\n",
              "function displayQuickchartButton(domScope) {\n",
              "  let quickchartButtonEl =\n",
              "    domScope.querySelector('#df-b2ece4ce-7668-4949-8d70-daa56e74d455 button.colab-df-quickchart');\n",
              "  quickchartButtonEl.style.display =\n",
              "    google.colab.kernel.accessAllowed ? 'block' : 'none';\n",
              "}\n",
              "\n",
              "        displayQuickchartButton(document);\n",
              "      </script>\n",
              "      <style>\n",
              "    .colab-df-container {\n",
              "      display:flex;\n",
              "      flex-wrap:wrap;\n",
              "      gap: 12px;\n",
              "    }\n",
              "\n",
              "    .colab-df-convert {\n",
              "      background-color: #E8F0FE;\n",
              "      border: none;\n",
              "      border-radius: 50%;\n",
              "      cursor: pointer;\n",
              "      display: none;\n",
              "      fill: #1967D2;\n",
              "      height: 32px;\n",
              "      padding: 0 0 0 0;\n",
              "      width: 32px;\n",
              "    }\n",
              "\n",
              "    .colab-df-convert:hover {\n",
              "      background-color: #E2EBFA;\n",
              "      box-shadow: 0px 1px 2px rgba(60, 64, 67, 0.3), 0px 1px 3px 1px rgba(60, 64, 67, 0.15);\n",
              "      fill: #174EA6;\n",
              "    }\n",
              "\n",
              "    [theme=dark] .colab-df-convert {\n",
              "      background-color: #3B4455;\n",
              "      fill: #D2E3FC;\n",
              "    }\n",
              "\n",
              "    [theme=dark] .colab-df-convert:hover {\n",
              "      background-color: #434B5C;\n",
              "      box-shadow: 0px 1px 3px 1px rgba(0, 0, 0, 0.15);\n",
              "      filter: drop-shadow(0px 1px 2px rgba(0, 0, 0, 0.3));\n",
              "      fill: #FFFFFF;\n",
              "    }\n",
              "  </style>\n",
              "\n",
              "      <script>\n",
              "        const buttonEl =\n",
              "          document.querySelector('#df-066c34e4-b482-4a6d-aed6-9d7a190b2db2 button.colab-df-convert');\n",
              "        buttonEl.style.display =\n",
              "          google.colab.kernel.accessAllowed ? 'block' : 'none';\n",
              "\n",
              "        async function convertToInteractive(key) {\n",
              "          const element = document.querySelector('#df-066c34e4-b482-4a6d-aed6-9d7a190b2db2');\n",
              "          const dataTable =\n",
              "            await google.colab.kernel.invokeFunction('convertToInteractive',\n",
              "                                                     [key], {});\n",
              "          if (!dataTable) return;\n",
              "\n",
              "          const docLinkHtml = 'Like what you see? Visit the ' +\n",
              "            '<a target=\"_blank\" href=https://colab.research.google.com/notebooks/data_table.ipynb>data table notebook</a>'\n",
              "            + ' to learn more about interactive tables.';\n",
              "          element.innerHTML = '';\n",
              "          dataTable['output_type'] = 'display_data';\n",
              "          await google.colab.output.renderOutput(dataTable, element);\n",
              "          const docLink = document.createElement('div');\n",
              "          docLink.innerHTML = docLinkHtml;\n",
              "          element.appendChild(docLink);\n",
              "        }\n",
              "      </script>\n",
              "    </div>\n",
              "  </div>\n"
            ]
          },
          "metadata": {},
          "execution_count": 5
        }
      ]
    },
    {
      "cell_type": "markdown",
      "source": [
        "### Dataset Rows & Columns count"
      ],
      "metadata": {
        "id": "7hBIi_osiCS2"
      }
    },
    {
      "cell_type": "code",
      "source": [
        "# Dataset Rows & Columns count\n",
        "print(f'we have total {df.shape[0]} rows and {df.shape[1]} columns.')"
      ],
      "metadata": {
        "id": "Kllu7SJgmLij",
        "colab": {
          "base_uri": "https://localhost:8080/"
        },
        "outputId": "63d34244-1b9c-4eda-c78a-1d066de0708a"
      },
      "execution_count": 6,
      "outputs": [
        {
          "output_type": "stream",
          "name": "stdout",
          "text": [
            "we have total 48895 rows and 16 columns.\n"
          ]
        }
      ]
    },
    {
      "cell_type": "markdown",
      "source": [
        "### Dataset Information"
      ],
      "metadata": {
        "id": "JlHwYmJAmNHm"
      }
    },
    {
      "cell_type": "code",
      "source": [
        "# Dataset Info\n",
        "df.info()"
      ],
      "metadata": {
        "id": "e9hRXRi6meOf",
        "colab": {
          "base_uri": "https://localhost:8080/"
        },
        "outputId": "d42434bd-0b1d-4c12-eb69-7f4a145397ad"
      },
      "execution_count": 7,
      "outputs": [
        {
          "output_type": "stream",
          "name": "stdout",
          "text": [
            "<class 'pandas.core.frame.DataFrame'>\n",
            "RangeIndex: 48895 entries, 0 to 48894\n",
            "Data columns (total 16 columns):\n",
            " #   Column                          Non-Null Count  Dtype  \n",
            "---  ------                          --------------  -----  \n",
            " 0   id                              48895 non-null  int64  \n",
            " 1   name                            48879 non-null  object \n",
            " 2   host_id                         48895 non-null  int64  \n",
            " 3   host_name                       48874 non-null  object \n",
            " 4   neighbourhood_group             48895 non-null  object \n",
            " 5   neighbourhood                   48895 non-null  object \n",
            " 6   latitude                        48895 non-null  float64\n",
            " 7   longitude                       48895 non-null  float64\n",
            " 8   room_type                       48895 non-null  object \n",
            " 9   price                           48895 non-null  int64  \n",
            " 10  minimum_nights                  48895 non-null  int64  \n",
            " 11  number_of_reviews               48895 non-null  int64  \n",
            " 12  last_review                     38843 non-null  object \n",
            " 13  reviews_per_month               38843 non-null  float64\n",
            " 14  calculated_host_listings_count  48895 non-null  int64  \n",
            " 15  availability_365                48895 non-null  int64  \n",
            "dtypes: float64(3), int64(7), object(6)\n",
            "memory usage: 6.0+ MB\n"
          ]
        }
      ]
    },
    {
      "cell_type": "markdown",
      "source": [
        "#### Duplicate Values"
      ],
      "metadata": {
        "id": "35m5QtbWiB9F"
      }
    },
    {
      "cell_type": "code",
      "source": [
        "# Dataset Duplicate Value Count\n",
        "NO_of_duplicate_rows=df[df.duplicated()].shape[0]\n",
        "print(f'we hve total no {NO_of_duplicate_rows} duplicate rows.')"
      ],
      "metadata": {
        "id": "1sLdpKYkmox0",
        "colab": {
          "base_uri": "https://localhost:8080/"
        },
        "outputId": "22cb3cad-2ac5-4a39-dad7-c57950fc47b8"
      },
      "execution_count": 8,
      "outputs": [
        {
          "output_type": "stream",
          "name": "stdout",
          "text": [
            "we hve total no 0 duplicate rows.\n"
          ]
        }
      ]
    },
    {
      "cell_type": "markdown",
      "source": [
        "#### Missing Values/Null Values"
      ],
      "metadata": {
        "id": "PoPl-ycgm1ru"
      }
    },
    {
      "cell_type": "code",
      "source": [
        "# Missing Values/Null Values Count\n",
        "df.isna().sum().sort_values(ascending=False)[:10].reset_index().rename(columns = {'index':'columns',0:'null values'})"
      ],
      "metadata": {
        "id": "GgHWkxvamxVg",
        "colab": {
          "base_uri": "https://localhost:8080/",
          "height": 363
        },
        "outputId": "f9d9021a-e5d7-4f08-a9de-63cf74d23232"
      },
      "execution_count": 9,
      "outputs": [
        {
          "output_type": "execute_result",
          "data": {
            "text/plain": [
              "               columns  null values\n",
              "0          last_review        10052\n",
              "1    reviews_per_month        10052\n",
              "2            host_name           21\n",
              "3                 name           16\n",
              "4                   id            0\n",
              "5              host_id            0\n",
              "6  neighbourhood_group            0\n",
              "7        neighbourhood            0\n",
              "8             latitude            0\n",
              "9            longitude            0"
            ],
            "text/html": [
              "\n",
              "\n",
              "  <div id=\"df-47e7813d-0298-406f-be3d-c6741c25ab77\">\n",
              "    <div class=\"colab-df-container\">\n",
              "      <div>\n",
              "<style scoped>\n",
              "    .dataframe tbody tr th:only-of-type {\n",
              "        vertical-align: middle;\n",
              "    }\n",
              "\n",
              "    .dataframe tbody tr th {\n",
              "        vertical-align: top;\n",
              "    }\n",
              "\n",
              "    .dataframe thead th {\n",
              "        text-align: right;\n",
              "    }\n",
              "</style>\n",
              "<table border=\"1\" class=\"dataframe\">\n",
              "  <thead>\n",
              "    <tr style=\"text-align: right;\">\n",
              "      <th></th>\n",
              "      <th>columns</th>\n",
              "      <th>null values</th>\n",
              "    </tr>\n",
              "  </thead>\n",
              "  <tbody>\n",
              "    <tr>\n",
              "      <th>0</th>\n",
              "      <td>last_review</td>\n",
              "      <td>10052</td>\n",
              "    </tr>\n",
              "    <tr>\n",
              "      <th>1</th>\n",
              "      <td>reviews_per_month</td>\n",
              "      <td>10052</td>\n",
              "    </tr>\n",
              "    <tr>\n",
              "      <th>2</th>\n",
              "      <td>host_name</td>\n",
              "      <td>21</td>\n",
              "    </tr>\n",
              "    <tr>\n",
              "      <th>3</th>\n",
              "      <td>name</td>\n",
              "      <td>16</td>\n",
              "    </tr>\n",
              "    <tr>\n",
              "      <th>4</th>\n",
              "      <td>id</td>\n",
              "      <td>0</td>\n",
              "    </tr>\n",
              "    <tr>\n",
              "      <th>5</th>\n",
              "      <td>host_id</td>\n",
              "      <td>0</td>\n",
              "    </tr>\n",
              "    <tr>\n",
              "      <th>6</th>\n",
              "      <td>neighbourhood_group</td>\n",
              "      <td>0</td>\n",
              "    </tr>\n",
              "    <tr>\n",
              "      <th>7</th>\n",
              "      <td>neighbourhood</td>\n",
              "      <td>0</td>\n",
              "    </tr>\n",
              "    <tr>\n",
              "      <th>8</th>\n",
              "      <td>latitude</td>\n",
              "      <td>0</td>\n",
              "    </tr>\n",
              "    <tr>\n",
              "      <th>9</th>\n",
              "      <td>longitude</td>\n",
              "      <td>0</td>\n",
              "    </tr>\n",
              "  </tbody>\n",
              "</table>\n",
              "</div>\n",
              "      <button class=\"colab-df-convert\" onclick=\"convertToInteractive('df-47e7813d-0298-406f-be3d-c6741c25ab77')\"\n",
              "              title=\"Convert this dataframe to an interactive table.\"\n",
              "              style=\"display:none;\">\n",
              "\n",
              "  <svg xmlns=\"http://www.w3.org/2000/svg\" height=\"24px\"viewBox=\"0 0 24 24\"\n",
              "       width=\"24px\">\n",
              "    <path d=\"M0 0h24v24H0V0z\" fill=\"none\"/>\n",
              "    <path d=\"M18.56 5.44l.94 2.06.94-2.06 2.06-.94-2.06-.94-.94-2.06-.94 2.06-2.06.94zm-11 1L8.5 8.5l.94-2.06 2.06-.94-2.06-.94L8.5 2.5l-.94 2.06-2.06.94zm10 10l.94 2.06.94-2.06 2.06-.94-2.06-.94-.94-2.06-.94 2.06-2.06.94z\"/><path d=\"M17.41 7.96l-1.37-1.37c-.4-.4-.92-.59-1.43-.59-.52 0-1.04.2-1.43.59L10.3 9.45l-7.72 7.72c-.78.78-.78 2.05 0 2.83L4 21.41c.39.39.9.59 1.41.59.51 0 1.02-.2 1.41-.59l7.78-7.78 2.81-2.81c.8-.78.8-2.07 0-2.86zM5.41 20L4 18.59l7.72-7.72 1.47 1.35L5.41 20z\"/>\n",
              "  </svg>\n",
              "      </button>\n",
              "\n",
              "\n",
              "\n",
              "    <div id=\"df-18a23ed7-c114-4383-99de-7a9cbb456504\">\n",
              "      <button class=\"colab-df-quickchart\" onclick=\"quickchart('df-18a23ed7-c114-4383-99de-7a9cbb456504')\"\n",
              "              title=\"Suggest charts.\"\n",
              "              style=\"display:none;\">\n",
              "\n",
              "<svg xmlns=\"http://www.w3.org/2000/svg\" height=\"24px\"viewBox=\"0 0 24 24\"\n",
              "     width=\"24px\">\n",
              "    <g>\n",
              "        <path d=\"M19 3H5c-1.1 0-2 .9-2 2v14c0 1.1.9 2 2 2h14c1.1 0 2-.9 2-2V5c0-1.1-.9-2-2-2zM9 17H7v-7h2v7zm4 0h-2V7h2v10zm4 0h-2v-4h2v4z\"/>\n",
              "    </g>\n",
              "</svg>\n",
              "      </button>\n",
              "    </div>\n",
              "\n",
              "<style>\n",
              "  .colab-df-quickchart {\n",
              "    background-color: #E8F0FE;\n",
              "    border: none;\n",
              "    border-radius: 50%;\n",
              "    cursor: pointer;\n",
              "    display: none;\n",
              "    fill: #1967D2;\n",
              "    height: 32px;\n",
              "    padding: 0 0 0 0;\n",
              "    width: 32px;\n",
              "  }\n",
              "\n",
              "  .colab-df-quickchart:hover {\n",
              "    background-color: #E2EBFA;\n",
              "    box-shadow: 0px 1px 2px rgba(60, 64, 67, 0.3), 0px 1px 3px 1px rgba(60, 64, 67, 0.15);\n",
              "    fill: #174EA6;\n",
              "  }\n",
              "\n",
              "  [theme=dark] .colab-df-quickchart {\n",
              "    background-color: #3B4455;\n",
              "    fill: #D2E3FC;\n",
              "  }\n",
              "\n",
              "  [theme=dark] .colab-df-quickchart:hover {\n",
              "    background-color: #434B5C;\n",
              "    box-shadow: 0px 1px 3px 1px rgba(0, 0, 0, 0.15);\n",
              "    filter: drop-shadow(0px 1px 2px rgba(0, 0, 0, 0.3));\n",
              "    fill: #FFFFFF;\n",
              "  }\n",
              "</style>\n",
              "\n",
              "    <script>\n",
              "      async function quickchart(key) {\n",
              "        const containerElement = document.querySelector('#' + key);\n",
              "        const charts = await google.colab.kernel.invokeFunction(\n",
              "            'suggestCharts', [key], {});\n",
              "      }\n",
              "    </script>\n",
              "\n",
              "      <script>\n",
              "\n",
              "function displayQuickchartButton(domScope) {\n",
              "  let quickchartButtonEl =\n",
              "    domScope.querySelector('#df-18a23ed7-c114-4383-99de-7a9cbb456504 button.colab-df-quickchart');\n",
              "  quickchartButtonEl.style.display =\n",
              "    google.colab.kernel.accessAllowed ? 'block' : 'none';\n",
              "}\n",
              "\n",
              "        displayQuickchartButton(document);\n",
              "      </script>\n",
              "      <style>\n",
              "    .colab-df-container {\n",
              "      display:flex;\n",
              "      flex-wrap:wrap;\n",
              "      gap: 12px;\n",
              "    }\n",
              "\n",
              "    .colab-df-convert {\n",
              "      background-color: #E8F0FE;\n",
              "      border: none;\n",
              "      border-radius: 50%;\n",
              "      cursor: pointer;\n",
              "      display: none;\n",
              "      fill: #1967D2;\n",
              "      height: 32px;\n",
              "      padding: 0 0 0 0;\n",
              "      width: 32px;\n",
              "    }\n",
              "\n",
              "    .colab-df-convert:hover {\n",
              "      background-color: #E2EBFA;\n",
              "      box-shadow: 0px 1px 2px rgba(60, 64, 67, 0.3), 0px 1px 3px 1px rgba(60, 64, 67, 0.15);\n",
              "      fill: #174EA6;\n",
              "    }\n",
              "\n",
              "    [theme=dark] .colab-df-convert {\n",
              "      background-color: #3B4455;\n",
              "      fill: #D2E3FC;\n",
              "    }\n",
              "\n",
              "    [theme=dark] .colab-df-convert:hover {\n",
              "      background-color: #434B5C;\n",
              "      box-shadow: 0px 1px 3px 1px rgba(0, 0, 0, 0.15);\n",
              "      filter: drop-shadow(0px 1px 2px rgba(0, 0, 0, 0.3));\n",
              "      fill: #FFFFFF;\n",
              "    }\n",
              "  </style>\n",
              "\n",
              "      <script>\n",
              "        const buttonEl =\n",
              "          document.querySelector('#df-47e7813d-0298-406f-be3d-c6741c25ab77 button.colab-df-convert');\n",
              "        buttonEl.style.display =\n",
              "          google.colab.kernel.accessAllowed ? 'block' : 'none';\n",
              "\n",
              "        async function convertToInteractive(key) {\n",
              "          const element = document.querySelector('#df-47e7813d-0298-406f-be3d-c6741c25ab77');\n",
              "          const dataTable =\n",
              "            await google.colab.kernel.invokeFunction('convertToInteractive',\n",
              "                                                     [key], {});\n",
              "          if (!dataTable) return;\n",
              "\n",
              "          const docLinkHtml = 'Like what you see? Visit the ' +\n",
              "            '<a target=\"_blank\" href=https://colab.research.google.com/notebooks/data_table.ipynb>data table notebook</a>'\n",
              "            + ' to learn more about interactive tables.';\n",
              "          element.innerHTML = '';\n",
              "          dataTable['output_type'] = 'display_data';\n",
              "          await google.colab.output.renderOutput(dataTable, element);\n",
              "          const docLink = document.createElement('div');\n",
              "          docLink.innerHTML = docLinkHtml;\n",
              "          element.appendChild(docLink);\n",
              "        }\n",
              "      </script>\n",
              "    </div>\n",
              "  </div>\n"
            ]
          },
          "metadata": {},
          "execution_count": 9
        }
      ]
    },
    {
      "cell_type": "code",
      "source": [
        "Non_null_df = df.notnull().sum().reset_index().rename(columns = {'index' : 'columns', 0 : \"Non-Null Values\"})"
      ],
      "metadata": {
        "id": "pOx4lN6oBm-X"
      },
      "execution_count": 10,
      "outputs": []
    },
    {
      "cell_type": "code",
      "source": [
        "# Visualizing the missing values\n",
        "ax = Non_null_df.plot(kind = 'barh', x = 'columns', figsize=(12,6))\n",
        "ax.bar_label(ax.containers[0])\n",
        "plt.ylabel('Columns', {'fontsize': 12, 'fontweight': 15})\n",
        "plt.xlabel(\"Non Null Values\", {'fontsize': 12, 'fontweight': 15})\n",
        "plt.title('Column-wise Non-null Values',{'fontsize': 18, 'fontweight': 20})\n",
        "plt.show()"
      ],
      "metadata": {
        "colab": {
          "base_uri": "https://localhost:8080/",
          "height": 573
        },
        "id": "LBphp2EoJN_6",
        "outputId": "2f6f3b2e-0ed7-4c07-a86a-0046d20fbace"
      },
      "execution_count": 11,
      "outputs": [
        {
          "output_type": "display_data",
          "data": {
            "text/plain": [
              "<Figure size 1200x600 with 1 Axes>"
            ],
            "image/png": "[encoded data removed]"
          },
          "metadata": {}
        }
      ]
    },
    {
      "cell_type": "markdown",
      "source": [
        "## ***2. Understanding Your Variables***"
      ],
      "metadata": {
        "id": "nA9Y7ga8ng1Z"
      }
    },
    {
      "cell_type": "code",
      "source": [
        "# Dataset Columns\n",
        "df.columns"
      ],
      "metadata": {
        "id": "j7xfkqrt5Ag5",
        "colab": {
          "base_uri": "https://localhost:8080/"
        },
        "outputId": "10ffbf21-615f-4822-815b-9c47164b0618"
      },
      "execution_count": 12,
      "outputs": [
        {
          "output_type": "execute_result",
          "data": {
            "text/plain": [
              "Index(['id', 'name', 'host_id', 'host_name', 'neighbourhood_group',\n",
              "       'neighbourhood', 'latitude', 'longitude', 'room_type', 'price',\n",
              "       'minimum_nights', 'number_of_reviews', 'last_review',\n",
              "       'reviews_per_month', 'calculated_host_listings_count',\n",
              "       'availability_365'],\n",
              "      dtype='object')"
            ]
          },
          "metadata": {},
          "execution_count": 12
        }
      ]
    },
    {
      "cell_type": "code",
      "source": [
        "# Dataset Describe\n",
        "df.describe()"
      ],
      "metadata": {
        "id": "DnOaZdaE5Q5t",
        "colab": {
          "base_uri": "https://localhost:8080/",
          "height": 364
        },
        "outputId": "6f36eb63-35f1-4636-e9cf-9e37dc669ad4"
      },
      "execution_count": 13,
      "outputs": [
        {
          "output_type": "execute_result",
          "data": {
            "text/plain": [
              "                 id       host_id      latitude     longitude         price  \\\n",
              "count  4.889500e+04  4.889500e+04  48895.000000  48895.000000  48895.000000   \n",
              "mean   1.901714e+07  6.762001e+07     40.728949    -73.952170    152.720687   \n",
              "std    1.098311e+07  7.861097e+07      0.054530      0.046157    240.154170   \n",
              "min    2.539000e+03  2.438000e+03     40.499790    -74.244420      0.000000   \n",
              "25%    9.471945e+06  7.822033e+06     40.690100    -73.983070     69.000000   \n",
              "50%    1.967728e+07  3.079382e+07     40.723070    -73.955680    106.000000   \n",
              "75%    2.915218e+07  1.074344e+08     40.763115    -73.936275    175.000000   \n",
              "max    3.648724e+07  2.743213e+08     40.913060    -73.712990  10000.000000   \n",
              "\n",
              "       minimum_nights  number_of_reviews  reviews_per_month  \\\n",
              "count    48895.000000       48895.000000       38843.000000   \n",
              "mean         7.029962          23.274466           1.373221   \n",
              "std         20.510550          44.550582           1.680442   \n",
              "min          1.000000           0.000000           0.010000   \n",
              "25%          1.000000           1.000000           0.190000   \n",
              "50%          3.000000           5.000000           0.720000   \n",
              "75%          5.000000          24.000000           2.020000   \n",
              "max       1250.000000         629.000000          58.500000   \n",
              "\n",
              "       calculated_host_listings_count  availability_365  \n",
              "count                    48895.000000      48895.000000  \n",
              "mean                         7.143982        112.781327  \n",
              "std                         32.952519        131.622289  \n",
              "min                          1.000000          0.000000  \n",
              "25%                          1.000000          0.000000  \n",
              "50%                          1.000000         45.000000  \n",
              "75%                          2.000000        227.000000  \n",
              "max                        327.000000        365.000000  "
            ],
            "text/html": [
              "\n",
              "\n",
              "  <div id=\"df-f91db04a-8fe0-4284-b240-10433cf46f63\">\n",
              "    <div class=\"colab-df-container\">\n",
              "      <div>\n",
              "<style scoped>\n",
              "    .dataframe tbody tr th:only-of-type {\n",
              "        vertical-align: middle;\n",
              "    }\n",
              "\n",
              "    .dataframe tbody tr th {\n",
              "        vertical-align: top;\n",
              "    }\n",
              "\n",
              "    .dataframe thead th {\n",
              "        text-align: right;\n",
              "    }\n",
              "</style>\n",
              "<table border=\"1\" class=\"dataframe\">\n",
              "  <thead>\n",
              "    <tr style=\"text-align: right;\">\n",
              "      <th></th>\n",
              "      <th>id</th>\n",
              "      <th>host_id</th>\n",
              "      <th>latitude</th>\n",
              "      <th>longitude</th>\n",
              "      <th>price</th>\n",
              "      <th>minimum_nights</th>\n",
              "      <th>number_of_reviews</th>\n",
              "      <th>reviews_per_month</th>\n",
              "      <th>calculated_host_listings_count</th>\n",
              "      <th>availability_365</th>\n",
              "    </tr>\n",
              "  </thead>\n",
              "  <tbody>\n",
              "    <tr>\n",
              "      <th>count</th>\n",
              "      <td>4.889500e+04</td>\n",
              "      <td>4.889500e+04</td>\n",
              "      <td>48895.000000</td>\n",
              "      <td>48895.000000</td>\n",
              "      <td>48895.000000</td>\n",
              "      <td>48895.000000</td>\n",
              "      <td>48895.000000</td>\n",
              "      <td>38843.000000</td>\n",
              "      <td>48895.000000</td>\n",
              "      <td>48895.000000</td>\n",
              "    </tr>\n",
              "    <tr>\n",
              "      <th>mean</th>\n",
              "      <td>1.901714e+07</td>\n",
              "      <td>6.762001e+07</td>\n",
              "      <td>40.728949</td>\n",
              "      <td>-73.952170</td>\n",
              "      <td>152.720687</td>\n",
              "      <td>7.029962</td>\n",
              "      <td>23.274466</td>\n",
              "      <td>1.373221</td>\n",
              "      <td>7.143982</td>\n",
              "      <td>112.781327</td>\n",
              "    </tr>\n",
              "    <tr>\n",
              "      <th>std</th>\n",
              "      <td>1.098311e+07</td>\n",
              "      <td>7.861097e+07</td>\n",
              "      <td>0.054530</td>\n",
              "      <td>0.046157</td>\n",
              "      <td>240.154170</td>\n",
              "      <td>20.510550</td>\n",
              "      <td>44.550582</td>\n",
              "      <td>1.680442</td>\n",
              "      <td>32.952519</td>\n",
              "      <td>131.622289</td>\n",
              "    </tr>\n",
              "    <tr>\n",
              "      <th>min</th>\n",
              "      <td>2.539000e+03</td>\n",
              "      <td>2.438000e+03</td>\n",
              "      <td>40.499790</td>\n",
              "      <td>-74.244420</td>\n",
              "      <td>0.000000</td>\n",
              "      <td>1.000000</td>\n",
              "      <td>0.000000</td>\n",
              "      <td>0.010000</td>\n",
              "      <td>1.000000</td>\n",
              "      <td>0.000000</td>\n",
              "    </tr>\n",
              "    <tr>\n",
              "      <th>25%</th>\n",
              "      <td>9.471945e+06</td>\n",
              "      <td>7.822033e+06</td>\n",
              "      <td>40.690100</td>\n",
              "      <td>-73.983070</td>\n",
              "      <td>69.000000</td>\n",
              "      <td>1.000000</td>\n",
              "      <td>1.000000</td>\n",
              "      <td>0.190000</td>\n",
              "      <td>1.000000</td>\n",
              "      <td>0.000000</td>\n",
              "    </tr>\n",
              "    <tr>\n",
              "      <th>50%</th>\n",
              "      <td>1.967728e+07</td>\n",
              "      <td>3.079382e+07</td>\n",
              "      <td>40.723070</td>\n",
              "      <td>-73.955680</td>\n",
              "      <td>106.000000</td>\n",
              "      <td>3.000000</td>\n",
              "      <td>5.000000</td>\n",
              "      <td>0.720000</td>\n",
              "      <td>1.000000</td>\n",
              "      <td>45.000000</td>\n",
              "    </tr>\n",
              "    <tr>\n",
              "      <th>75%</th>\n",
              "      <td>2.915218e+07</td>\n",
              "      <td>1.074344e+08</td>\n",
              "      <td>40.763115</td>\n",
              "      <td>-73.936275</td>\n",
              "      <td>175.000000</td>\n",
              "      <td>5.000000</td>\n",
              "      <td>24.000000</td>\n",
              "      <td>2.020000</td>\n",
              "      <td>2.000000</td>\n",
              "      <td>227.000000</td>\n",
              "    </tr>\n",
              "    <tr>\n",
              "      <th>max</th>\n",
              "      <td>3.648724e+07</td>\n",
              "      <td>2.743213e+08</td>\n",
              "      <td>40.913060</td>\n",
              "      <td>-73.712990</td>\n",
              "      <td>10000.000000</td>\n",
              "      <td>1250.000000</td>\n",
              "      <td>629.000000</td>\n",
              "      <td>58.500000</td>\n",
              "      <td>327.000000</td>\n",
              "      <td>365.000000</td>\n",
              "    </tr>\n",
              "  </tbody>\n",
              "</table>\n",
              "</div>\n",
              "      <button class=\"colab-df-convert\" onclick=\"convertToInteractive('df-f91db04a-8fe0-4284-b240-10433cf46f63')\"\n",
              "              title=\"Convert this dataframe to an interactive table.\"\n",
              "              style=\"display:none;\">\n",
              "\n",
              "  <svg xmlns=\"http://www.w3.org/2000/svg\" height=\"24px\"viewBox=\"0 0 24 24\"\n",
              "       width=\"24px\">\n",
              "    <path d=\"M0 0h24v24H0V0z\" fill=\"none\"/>\n",
              "    <path d=\"M18.56 5.44l.94 2.06.94-2.06 2.06-.94-2.06-.94-.94-2.06-.94 2.06-2.06.94zm-11 1L8.5 8.5l.94-2.06 2.06-.94-2.06-.94L8.5 2.5l-.94 2.06-2.06.94zm10 10l.94 2.06.94-2.06 2.06-.94-2.06-.94-.94-2.06-.94 2.06-2.06.94z\"/><path d=\"M17.41 7.96l-1.37-1.37c-.4-.4-.92-.59-1.43-.59-.52 0-1.04.2-1.43.59L10.3 9.45l-7.72 7.72c-.78.78-.78 2.05 0 2.83L4 21.41c.39.39.9.59 1.41.59.51 0 1.02-.2 1.41-.59l7.78-7.78 2.81-2.81c.8-.78.8-2.07 0-2.86zM5.41 20L4 18.59l7.72-7.72 1.47 1.35L5.41 20z\"/>\n",
              "  </svg>\n",
              "      </button>\n",
              "\n",
              "\n",
              "\n",
              "    <div id=\"df-0a93f035-e1c7-4469-9dbd-6751c0ecacb5\">\n",
              "      <button class=\"colab-df-quickchart\" onclick=\"quickchart('df-0a93f035-e1c7-4469-9dbd-6751c0ecacb5')\"\n",
              "              title=\"Suggest charts.\"\n",
              "              style=\"display:none;\">\n",
              "\n",
              "<svg xmlns=\"http://www.w3.org/2000/svg\" height=\"24px\"viewBox=\"0 0 24 24\"\n",
              "     width=\"24px\">\n",
              "    <g>\n",
              "        <path d=\"M19 3H5c-1.1 0-2 .9-2 2v14c0 1.1.9 2 2 2h14c1.1 0 2-.9 2-2V5c0-1.1-.9-2-2-2zM9 17H7v-7h2v7zm4 0h-2V7h2v10zm4 0h-2v-4h2v4z\"/>\n",
              "    </g>\n",
              "</svg>\n",
              "      </button>\n",
              "    </div>\n",
              "\n",
              "<style>\n",
              "  .colab-df-quickchart {\n",
              "    background-color: #E8F0FE;\n",
              "    border: none;\n",
              "    border-radius: 50%;\n",
              "    cursor: pointer;\n",
              "    display: none;\n",
              "    fill: #1967D2;\n",
              "    height: 32px;\n",
              "    padding: 0 0 0 0;\n",
              "    width: 32px;\n",
              "  }\n",
              "\n",
              "  .colab-df-quickchart:hover {\n",
              "    background-color: #E2EBFA;\n",
              "    box-shadow: 0px 1px 2px rgba(60, 64, 67, 0.3), 0px 1px 3px 1px rgba(60, 64, 67, 0.15);\n",
              "    fill: #174EA6;\n",
              "  }\n",
              "\n",
              "  [theme=dark] .colab-df-quickchart {\n",
              "    background-color: #3B4455;\n",
              "    fill: #D2E3FC;\n",
              "  }\n",
              "\n",
              "  [theme=dark] .colab-df-quickchart:hover {\n",
              "    background-color: #434B5C;\n",
              "    box-shadow: 0px 1px 3px 1px rgba(0, 0, 0, 0.15);\n",
              "    filter: drop-shadow(0px 1px 2px rgba(0, 0, 0, 0.3));\n",
              "    fill: #FFFFFF;\n",
              "  }\n",
              "</style>\n",
              "\n",
              "    <script>\n",
              "      async function quickchart(key) {\n",
              "        const containerElement = document.querySelector('#' + key);\n",
              "        const charts = await google.colab.kernel.invokeFunction(\n",
              "            'suggestCharts', [key], {});\n",
              "      }\n",
              "    </script>\n",
              "\n",
              "      <script>\n",
              "\n",
              "function displayQuickchartButton(domScope) {\n",
              "  let quickchartButtonEl =\n",
              "    domScope.querySelector('#df-0a93f035-e1c7-4469-9dbd-6751c0ecacb5 button.colab-df-quickchart');\n",
              "  quickchartButtonEl.style.display =\n",
              "    google.colab.kernel.accessAllowed ? 'block' : 'none';\n",
              "}\n",
              "\n",
              "        displayQuickchartButton(document);\n",
              "      </script>\n",
              "      <style>\n",
              "    .colab-df-container {\n",
              "      display:flex;\n",
              "      flex-wrap:wrap;\n",
              "      gap: 12px;\n",
              "    }\n",
              "\n",
              "    .colab-df-convert {\n",
              "      background-color: #E8F0FE;\n",
              "      border: none;\n",
              "      border-radius: 50%;\n",
              "      cursor: pointer;\n",
              "      display: none;\n",
              "      fill: #1967D2;\n",
              "      height: 32px;\n",
              "      padding: 0 0 0 0;\n",
              "      width: 32px;\n",
              "    }\n",
              "\n",
              "    .colab-df-convert:hover {\n",
              "      background-color: #E2EBFA;\n",
              "      box-shadow: 0px 1px 2px rgba(60, 64, 67, 0.3), 0px 1px 3px 1px rgba(60, 64, 67, 0.15);\n",
              "      fill: #174EA6;\n",
              "    }\n",
              "\n",
              "    [theme=dark] .colab-df-convert {\n",
              "      background-color: #3B4455;\n",
              "      fill: #D2E3FC;\n",
              "    }\n",
              "\n",
              "    [theme=dark] .colab-df-convert:hover {\n",
              "      background-color: #434B5C;\n",
              "      box-shadow: 0px 1px 3px 1px rgba(0, 0, 0, 0.15);\n",
              "      filter: drop-shadow(0px 1px 2px rgba(0, 0, 0, 0.3));\n",
              "      fill: #FFFFFF;\n",
              "    }\n",
              "  </style>\n",
              "\n",
              "      <script>\n",
              "        const buttonEl =\n",
              "          document.querySelector('#df-f91db04a-8fe0-4284-b240-10433cf46f63 button.colab-df-convert');\n",
              "        buttonEl.style.display =\n",
              "          google.colab.kernel.accessAllowed ? 'block' : 'none';\n",
              "\n",
              "        async function convertToInteractive(key) {\n",
              "          const element = document.querySelector('#df-f91db04a-8fe0-4284-b240-10433cf46f63');\n",
              "          const dataTable =\n",
              "            await google.colab.kernel.invokeFunction('convertToInteractive',\n",
              "                                                     [key], {});\n",
              "          if (!dataTable) return;\n",
              "\n",
              "          const docLinkHtml = 'Like what you see? Visit the ' +\n",
              "            '<a target=\"_blank\" href=https://colab.research.google.com/notebooks/data_table.ipynb>data table notebook</a>'\n",
              "            + ' to learn more about interactive tables.';\n",
              "          element.innerHTML = '';\n",
              "          dataTable['output_type'] = 'display_data';\n",
              "          await google.colab.output.renderOutput(dataTable, element);\n",
              "          const docLink = document.createElement('div');\n",
              "          docLink.innerHTML = docLinkHtml;\n",
              "          element.appendChild(docLink);\n",
              "        }\n",
              "      </script>\n",
              "    </div>\n",
              "  </div>\n"
            ]
          },
          "metadata": {},
          "execution_count": 13
        }
      ]
    },
    {
      "cell_type": "markdown",
      "source": [
        "### Checking unique values for each varaible ."
      ],
      "metadata": {
        "id": "u3PMJOP6ngxN"
      }
    },
    {
      "cell_type": "code",
      "source": [
        "# Check Unique Values for each variable.\n",
        "def unique_values(dF):\n",
        "    unique_vals = []\n",
        "    for col in dF.columns:\n",
        "        unique_vals.append(dF[col].unique())\n",
        "\n",
        "    return unique_vals"
      ],
      "metadata": {
        "id": "zms12Yq5n-jE"
      },
      "execution_count": 14,
      "outputs": []
    },
    {
      "cell_type": "code",
      "source": [
        "unique_values(df)"
      ],
      "metadata": {
        "colab": {
          "base_uri": "https://localhost:8080/"
        },
        "id": "uye_YP2WNhFu",
        "outputId": "74d36d1d-b47a-47d5-c9f2-aa4df6971aab"
      },
      "execution_count": 15,
      "outputs": [
        {
          "output_type": "execute_result",
          "data": {
            "text/plain": [
              "[array([    2539,     2595,     3647, ..., 36485431, 36485609, 36487245]),\n",
              " array(['Clean & quiet apt home by the park', 'Skylit Midtown Castle',\n",
              "        'THE VILLAGE OF HARLEM....NEW YORK !', ...,\n",
              "        'Sunny Studio at Historical Neighborhood',\n",
              "        '43rd St. Time Square-cozy single bed',\n",
              "        \"Trendy duplex in the very heart of Hell's Kitchen\"], dtype=object),\n",
              " array([     2787,      2845,      4632, ..., 274321313,  23492952,\n",
              "         68119814]),\n",
              " array(['John', 'Jennifer', 'Elisabeth', ..., 'Abayomi', 'Alberth',\n",
              "        'Ilgar & Aysel'], dtype=object),\n",
              " array(['Brooklyn', 'Manhattan', 'Queens', 'Staten Island', 'Bronx'],\n",
              "       dtype=object),\n",
              " array(['Kensington', 'Midtown', 'Harlem', 'Clinton Hill', 'East Harlem',\n",
              "        'Murray Hill', 'Bedford-Stuyvesant', \"Hell's Kitchen\",\n",
              "        'Upper West Side', 'Chinatown', 'South Slope', 'West Village',\n",
              "        'Williamsburg', 'Fort Greene', 'Chelsea', 'Crown Heights',\n",
              "        'Park Slope', 'Windsor Terrace', 'Inwood', 'East Village',\n",
              "        'Greenpoint', 'Bushwick', 'Flatbush', 'Lower East Side',\n",
              "        'Prospect-Lefferts Gardens', 'Long Island City', 'Kips Bay',\n",
              "        'SoHo', 'Upper East Side', 'Prospect Heights',\n",
              "        'Washington Heights', 'Woodside', 'Brooklyn Heights',\n",
              "        'Carroll Gardens', 'Gowanus', 'Flatlands', 'Cobble Hill',\n",
              "        'Flushing', 'Boerum Hill', 'Sunnyside', 'DUMBO', 'St. George',\n",
              "        'Highbridge', 'Financial District', 'Ridgewood',\n",
              "        'Morningside Heights', 'Jamaica', 'Middle Village', 'NoHo',\n",
              "        'Ditmars Steinway', 'Flatiron District', 'Roosevelt Island',\n",
              "        'Greenwich Village', 'Little Italy', 'East Flatbush',\n",
              "        'Tompkinsville', 'Astoria', 'Clason Point', 'Eastchester',\n",
              "        'Kingsbridge', 'Two Bridges', 'Queens Village', 'Rockaway Beach',\n",
              "        'Forest Hills', 'Nolita', 'Woodlawn', 'University Heights',\n",
              "        'Gravesend', 'Gramercy', 'Allerton', 'East New York',\n",
              "        'Theater District', 'Concourse Village', 'Sheepshead Bay',\n",
              "        'Emerson Hill', 'Fort Hamilton', 'Bensonhurst', 'Tribeca',\n",
              "        'Shore Acres', 'Sunset Park', 'Concourse', 'Elmhurst',\n",
              "        'Brighton Beach', 'Jackson Heights', 'Cypress Hills', 'St. Albans',\n",
              "        'Arrochar', 'Rego Park', 'Wakefield', 'Clifton', 'Bay Ridge',\n",
              "        'Graniteville', 'Spuyten Duyvil', 'Stapleton', 'Briarwood',\n",
              "        'Ozone Park', 'Columbia St', 'Vinegar Hill', 'Mott Haven',\n",
              "        'Longwood', 'Canarsie', 'Battery Park City', 'Civic Center',\n",
              "        'East Elmhurst', 'New Springville', 'Morris Heights', 'Arverne',\n",
              "        'Cambria Heights', 'Tottenville', 'Mariners Harbor', 'Concord',\n",
              "        'Borough Park', 'Bayside', 'Downtown Brooklyn', 'Port Morris',\n",
              "        'Fieldston', 'Kew Gardens', 'Midwood', 'College Point',\n",
              "        'Mount Eden', 'City Island', 'Glendale', 'Port Richmond',\n",
              "        'Red Hook', 'Richmond Hill', 'Bellerose', 'Maspeth',\n",
              "        'Williamsbridge', 'Soundview', 'Woodhaven', 'Woodrow',\n",
              "        'Co-op City', 'Stuyvesant Town', 'Parkchester', 'North Riverdale',\n",
              "        'Dyker Heights', 'Bronxdale', 'Sea Gate', 'Riverdale',\n",
              "        'Kew Gardens Hills', 'Bay Terrace', 'Norwood', 'Claremont Village',\n",
              "        'Whitestone', 'Fordham', 'Bayswater', 'Navy Yard', 'Brownsville',\n",
              "        'Eltingville', 'Fresh Meadows', 'Mount Hope', 'Lighthouse Hill',\n",
              "        'Springfield Gardens', 'Howard Beach', 'Belle Harbor',\n",
              "        'Jamaica Estates', 'Van Nest', 'Morris Park', 'West Brighton',\n",
              "        'Far Rockaway', 'South Ozone Park', 'Tremont', 'Corona',\n",
              "        'Great Kills', 'Manhattan Beach', 'Marble Hill', 'Dongan Hills',\n",
              "        'Castleton Corners', 'East Morrisania', 'Hunts Point', 'Neponsit',\n",
              "        'Pelham Bay', 'Randall Manor', 'Throgs Neck', 'Todt Hill',\n",
              "        'West Farms', 'Silver Lake', 'Morrisania', 'Laurelton',\n",
              "        'Grymes Hill', 'Holliswood', 'Pelham Gardens', 'Belmont',\n",
              "        'Rosedale', 'Edgemere', 'New Brighton', 'Midland Beach',\n",
              "        'Baychester', 'Melrose', 'Bergen Beach', 'Richmondtown',\n",
              "        'Howland Hook', 'Schuylerville', 'Coney Island', 'New Dorp Beach',\n",
              "        \"Prince's Bay\", 'South Beach', 'Bath Beach', 'Jamaica Hills',\n",
              "        'Oakwood', 'Castle Hill', 'Hollis', 'Douglaston', 'Huguenot',\n",
              "        'Olinville', 'Edenwald', 'Grant City', 'Westerleigh',\n",
              "        'Bay Terrace, Staten Island', 'Westchester Square', 'Little Neck',\n",
              "        'Fort Wadsworth', 'Rosebank', 'Unionport', 'Mill Basin',\n",
              "        'Arden Heights', \"Bull's Head\", 'New Dorp', 'Rossville',\n",
              "        'Breezy Point', 'Willowbrook'], dtype=object),\n",
              " array([40.64749, 40.75362, 40.80902, ..., 40.80953, 40.70184, 40.81475]),\n",
              " array([-73.97237, -73.98377, -73.9419 , ..., -73.87727, -73.93614,\n",
              "        -73.80844]),\n",
              " array(['Private room', 'Entire home/apt', 'Shared room'], dtype=object),\n",
              " array([  149,   225,   150,    89,    80,   200,    60,    79,   135,\n",
              "           85,   120,   140,   215,    99,   190,   299,   130,   110,\n",
              "           44,   180,    50,    52,    55,    70,    35,    40,    68,\n",
              "          115,   151,   228,   144,    69,    49,   375,   250,   275,\n",
              "          230,    51,    65,   105,    95,   145,   285,    94,   800,\n",
              "          131,    98,   100,   125,   175,   500,   101,   220,    59,\n",
              "          350,   199,   325,   235,   170,   400,    75,    90,   185,\n",
              "           77,    76,   160,   195,   156,   219,   475,   165,   196,\n",
              "           83,   123,   265,   249,   121,    45,    71,    64,   159,\n",
              "          189,   239,   305,   155,    92,    36,    37,   205,    39,\n",
              "          390,   129,   212,   124,   122,   109,   575,   229,   169,\n",
              "          113,   179,   349,   139,   650,    67,   599,   211,   290,\n",
              "           87,   395,   260,    97,   132,   141,   495,   259,    96,\n",
              "          295,   451,   300,    42,   255,    72,    88,   450,   198,\n",
              "           46,    33,   106,    91,  2000,   429,   107,    43,   248,\n",
              "           41,   157,   172,   146,   116,   288,   270,   241,   399,\n",
              "          438,   279,   137,   280,   226,   154,   700,   246,   119,\n",
              "          850,    81,    54,   760,    48,    58,   153,    73,   485,\n",
              "          310,   167,   147,    34,    93,    56,  1300,   127,   402,\n",
              "           30,   240,   385,    47,   209,   192,    86,   245,   499,\n",
              "          387,   178,  3000,   549,    20,    74,   104,   298,   269,\n",
              "          138,   208,   142,   174,   315,   210,   311,    82,   117,\n",
              "          380,   328,   102,   118,   217,   152,   197,   133,   331,\n",
              "          128,   136,   148,  1000,   263,   433,    61,   234,   595,\n",
              "          108,   355,   134,    62,   550,    84,    78,   900,   103,\n",
              "          330,   425,   168,    66,   625,   171,   187,   600,   312,\n",
              "           38,   163,   158,   173,   465,    63,   340,    57,  4000,\n",
              "          999,   289,   166,   176,   339,   191,  2500,   329,   890,\n",
              "           53,   420,   950,   334,  1395,   221,   182,   750,   181,\n",
              "          112,  1500,  1899,   188,   262,   111,   162,    29,   232,\n",
              "         5000,   345,  1100,   224,    10,   194,    31,  1200,   440,\n",
              "          439,   555,   143,   184,   799,   455,   193,   161,   201,\n",
              "         1700,   525,    32,   251,  1999,   480,   320,   164,   272,\n",
              "          177,   560,  6000,   379,   303,   675,   749,  5250,  1550,\n",
              "         1250,  1485,   369,  6500,  2750,  3750,  1600,   975,    25,\n",
              "           18,  2300,   409,   218,   430,  4500,  8000,   795,   414,\n",
              "          126,    16,   785,   370,    22,   316,   264,   318,   273,\n",
              "          308,   365,   216,   545,   860,   540,   233,  1400,   383,\n",
              "          419,  1050,  2695,   985,   360,   699,   227,   247,   895,\n",
              "         9999,   258,  2400,   254,   346,   415,   995,  1763,   510,\n",
              "         1450,   281,    27,    28,   825,   524,   202,   244,   114,\n",
              "          341,   257,   322,   276,   207,   445,   284,   449,   680,\n",
              "         1495,   256,   888,   389,   460, 10000,   222,   243,   267,\n",
              "          398,   386,   319,   238,   374,   490,   335,  1195,   203,\n",
              "          469,   186,   352,   297,   237,   745,   410,  1170,   261,\n",
              "         1150,   434,   590,   899,   304,   296,   183,   531,   214,\n",
              "          655,    24,   477,   372,   206,    26,   587,   204,  1731,\n",
              "         1002,   333,   283,   814,  1800,   278,   421,   690,   619,\n",
              "         2100,   348,   223,   268,   359,   436,   935,   274,   376,\n",
              "          980,   294,   559,   509,   301,   408,  3800,   479,  2350,\n",
              "          822,    23,   407,   489,   252,   672,   378,   584,   894,\n",
              "          643,   462,   649,   302,   321,   534,   748,   487,   236,\n",
              "         1020,    19,  1599,    21,   585,  2590,    11,   640,   459,\n",
              "           12,  2250,   484,   337,   317,    15,  2800,  1475,   615,\n",
              "         2900,   287,     0,   515,  1067,   424,   578,   789,  1795,\n",
              "         1095,   530,  3900,   496,   435,   422,   367,   695,  1177,\n",
              "          790,   253,   573,   766,   231,   840,   577,   589,   949,\n",
              "          358,   213,  2200,   497,  1066,   412,   647,   277,   720,\n",
              "         2010,  3210,  4160,  1046,   271,   416,  1680,  7703,  3518,\n",
              "         6419,  2626,  2103,  8500,  2990,   620,   394,   323,   974,\n",
              "          344,  1333,   780,   347,   393,   309,   483,   737,   470,\n",
              "          689,   639,   848,   403,   471,   377,   282,   314,   478,\n",
              "          670,  2545,  1115,   520,   913,   505,   718,   692,  3600,\n",
              "          307,   306,  1880,   714,   956,   266,   292,  2999,   418,\n",
              "          452,   397,   343,   291,   392,   356,   242,   396,   332,\n",
              "          361,   453,   481,   466,   388,   423,   362,   313,   805,\n",
              "          725,   443,  1350,  3200,   293,   432,   444,  1075,   820,\n",
              "          373,  1750,  1080,  1299,  1295,   519,  1978,  1494,  3512,\n",
              "          382,   404,   503,   472,   454,   431,   468,   498,   612,\n",
              "          488,  1497,  2850,   990,   506,   324,  1315,   446,  7500,\n",
              "         3613,  2600,  4100,   794,  1145,  1306,   336,  5100,   898,\n",
              "          327,   442,   474,  1799,   353,  4200,   616,  6800,   945,\n",
              "          539,   426,   875,   463,   688,   580,   583,   381,  1900,\n",
              "          659,   830,    13,   447,  1099,   428,   920,   930,  2995,\n",
              "          342,   843,   417,  1308,   561,  1369,  1749,   338]),\n",
              " array([   1,    3,   10,   45,    2,    5,    4,   90,    7,   14,   60,\n",
              "          29,   30,  180,    9,   31,    6,   15,    8,   26,   28,  200,\n",
              "          50,   17,   21,   11,   25,   13,   35,   27,   18,   20,   40,\n",
              "          44,   65,   55,  120,  365,  122,   19,  240,   88,  115,  150,\n",
              "         370,   16,   80,  181,  265,  300,   59,  185,  360,   56,   12,\n",
              "          70,   39,   24,   32, 1000,  110,  270,   22,   75,  250,   62,\n",
              "          23, 1250,  364,   74,  198,  100,  500,   43,   91,  480,   53,\n",
              "          99,  160,   47,  999,  186,  366,   68,   93,   87,  183,  299,\n",
              "         175,   98,  133,  354,   42,   33,   37,  225,  400,  105,  184,\n",
              "         153,  134,  222,   58,  210,  275,  182,  114,   85,   36]),\n",
              " array([  9,  45,   0, 270,  74,  49, 430, 118, 160,  53, 188, 167, 113,\n",
              "         27, 148, 198, 260, 130,  39,  71,  88,  19,  58, 108,  29, 242,\n",
              "        197, 273, 168, 231, 214, 245,  15,  25,  81,  97,  11, 248,  61,\n",
              "        135, 112,  73,  82, 328, 105, 289, 138,  21,  42,   5,  66, 143,\n",
              "        191,   4, 338, 106, 190,  23, 142,  54,  70,  16,  94, 194,   2,\n",
              "        174,  24, 166,   1,  30, 139, 233,  68,  46, 335, 162, 170, 334,\n",
              "         12, 467,   7,  38, 324, 115, 354, 195,  13,  36,  63, 155, 193,\n",
              "         32,  50,  26, 426, 227,  84,   3,  10, 124, 240, 200,  79,  34,\n",
              "        134, 126, 234, 202,  28, 309,  14,  80, 294, 150,  47, 219, 114,\n",
              "        213,  86,  18, 206, 122,  33,  52,  51, 199,  41, 109, 151, 285,\n",
              "        375,   6, 358, 226, 104, 204, 253, 129,  37,  69, 192,  17, 222,\n",
              "        205, 458, 183, 189, 127,  35, 171,  92, 238,  56, 111, 147, 177,\n",
              "        185,  62, 181, 333, 441, 279, 203, 210,  64, 132,  20,  67, 187,\n",
              "         22,  93,  48, 120,  43,  59,  31, 220, 286, 398,  76, 182,   8,\n",
              "        228, 388, 223, 218,  75, 370, 131, 136,  98, 380, 163, 247, 116,\n",
              "        320, 225,  95, 403, 175, 263, 232,  72, 414, 119, 117, 385, 103,\n",
              "        280,  57, 480, 101,  87, 241,  90,  99, 271,  89, 179, 401,  83,\n",
              "        211, 295, 207, 172, 330, 123,  55, 258, 128,  60, 152, 154, 164,\n",
              "        278, 235, 305, 102,  65,  40, 100, 125, 229, 107, 176, 178, 216,\n",
              "        314, 153, 110, 244, 208, 121, 157, 209,  44, 158, 236, 215,  78,\n",
              "        297,  77, 265, 156, 272, 268, 133, 165, 269, 243, 137, 145, 339,\n",
              "        454, 230, 144, 439, 261, 319, 184, 451, 169, 266, 251, 141, 304,\n",
              "        474,  85, 221, 201, 321, 250, 149, 254, 161, 323, 347, 296,  96,\n",
              "        173, 239, 404, 326, 363, 146, 327, 237, 353,  91, 302, 276, 186,\n",
              "        322, 267, 540, 224, 291, 315, 313, 594, 597, 607, 287, 159, 395,\n",
              "        281, 447, 356, 360, 349, 246, 308, 292, 140, 284, 374, 196, 212,\n",
              "        274, 340, 386, 336, 249, 275, 259, 252, 298, 288, 255, 365, 257,\n",
              "        217, 488, 332, 180, 277, 389, 372, 299, 394, 357, 350, 352, 351,\n",
              "        262, 318, 307, 325, 282, 396, 466, 397, 290, 448, 424, 408, 543,\n",
              "        264, 629, 576, 256, 459, 412, 378, 411, 434, 510, 306, 392, 417,\n",
              "        368, 436, 310, 341]),\n",
              " array(['2018-10-19', '2019-05-21', nan, ..., '2017-12-23', '2018-01-29',\n",
              "        '2018-03-29'], dtype=object),\n",
              " array([2.100e-01, 3.800e-01,       nan, 4.640e+00, 1.000e-01, 5.900e-01,\n",
              "        4.000e-01, 3.470e+00, 9.900e-01, 1.330e+00, 4.300e-01, 1.500e+00,\n",
              "        1.340e+00, 9.100e-01, 2.200e-01, 1.200e+00, 1.720e+00, 2.120e+00,\n",
              "        4.440e+00, 7.000e-02, 1.090e+00, 3.700e-01, 6.100e-01, 7.300e-01,\n",
              "        1.370e+00, 4.900e-01, 1.110e+00, 2.400e-01, 2.040e+00, 1.420e+00,\n",
              "        1.650e+00, 2.370e+00, 6.600e-01, 1.410e+00, 1.960e+00, 1.810e+00,\n",
              "        2.080e+00, 3.900e-01, 2.300e-01, 6.900e-01, 8.400e-01, 2.250e+00,\n",
              "        5.200e-01, 1.160e+00, 1.010e+00, 6.300e-01, 7.000e-01, 2.820e+00,\n",
              "        9.000e-01, 1.700e-01, 2.490e+00, 1.190e+00, 3.000e-01, 1.200e-01,\n",
              "        5.700e-01, 1.600e-01, 4.720e+00, 1.400e+00, 1.260e+00, 1.640e+00,\n",
              "        1.600e+00, 9.200e-01, 2.000e-01, 1.280e+00, 5.400e-01, 6.200e-01,\n",
              "        1.500e-01, 5.300e-01, 1.730e+00, 5.000e-02, 1.540e+00, 2.800e-01,\n",
              "        3.400e+00, 1.570e+00, 1.050e+00, 7.100e-01, 1.100e-01, 2.700e-01,\n",
              "        1.230e+00, 8.700e-01, 2.090e+00, 6.000e-01, 5.500e-01, 3.020e+00,\n",
              "        7.900e-01, 1.460e+00, 1.610e+00, 3.000e+00, 1.300e-01, 4.220e+00,\n",
              "        6.000e-02, 3.010e+00, 3.200e+00, 2.030e+00, 8.000e-02, 1.900e-01,\n",
              "        3.300e-01, 5.800e-01, 2.350e+00, 1.860e+00, 2.900e-01, 4.500e-01,\n",
              "        2.500e-01, 2.000e-02, 3.890e+00, 7.700e-01, 3.000e-02, 4.000e-02,\n",
              "        1.000e-02, 2.190e+00, 7.400e-01, 9.000e-02, 3.200e-01, 1.240e+00,\n",
              "        2.600e+00, 2.600e-01, 2.860e+00, 2.170e+00, 1.660e+00, 9.400e-01,\n",
              "        1.780e+00, 7.800e-01, 1.060e+00, 2.000e+00, 8.000e-01, 7.500e-01,\n",
              "        3.600e-01, 1.790e+00, 1.920e+00, 1.180e+00, 5.000e-01, 1.170e+00,\n",
              "        4.800e-01, 1.850e+00, 1.040e+00, 1.430e+00, 2.690e+00, 3.520e+00,\n",
              "        3.100e-01, 3.440e+00, 1.000e+00, 1.450e+00, 3.040e+00, 1.220e+00,\n",
              "        1.130e+00, 3.500e-01, 6.500e-01, 1.840e+00, 9.600e-01, 2.100e+00,\n",
              "        4.580e+00, 6.700e-01, 1.800e-01, 1.830e+00, 1.820e+00, 1.300e+00,\n",
              "        3.400e-01, 2.210e+00, 1.800e+00, 2.300e+00, 2.130e+00, 1.440e+00,\n",
              "        1.710e+00, 1.770e+00, 3.190e+00, 4.500e+00, 4.600e-01, 2.390e+00,\n",
              "        1.380e+00, 4.100e-01, 1.400e-01, 3.550e+00, 2.270e+00, 1.270e+00,\n",
              "        1.310e+00, 1.870e+00, 5.600e-01, 9.300e-01, 6.800e-01, 1.250e+00,\n",
              "        1.880e+00, 4.200e-01, 4.400e-01, 2.010e+00, 2.810e+00, 3.970e+00,\n",
              "        7.600e-01, 5.100e-01, 8.500e-01, 2.400e+00, 1.070e+00, 3.880e+00,\n",
              "        2.220e+00, 1.510e+00, 2.260e+00, 1.210e+00, 3.740e+00, 1.760e+00,\n",
              "        1.680e+00, 3.830e+00, 2.530e+00, 2.510e+00, 3.230e+00, 4.100e+00,\n",
              "        1.550e+00, 2.410e+00, 7.200e-01, 8.600e-01, 2.180e+00, 4.340e+00,\n",
              "        2.140e+00, 4.000e+00, 1.080e+00, 2.330e+00, 2.310e+00, 2.920e+00,\n",
              "        8.900e-01, 1.940e+00, 6.700e+00, 4.700e-01, 4.600e+00, 9.500e-01,\n",
              "        2.840e+00, 1.970e+00, 2.020e+00, 6.620e+00, 9.700e-01, 1.290e+00,\n",
              "        3.900e+00, 2.850e+00, 1.620e+00, 7.140e+00, 2.700e+00, 2.900e+00,\n",
              "        1.630e+00, 2.470e+00, 6.400e-01, 2.950e+00, 1.150e+00, 3.240e+00,\n",
              "        1.520e+00, 8.800e-01, 1.360e+00, 1.590e+00, 1.320e+00, 2.590e+00,\n",
              "        2.450e+00, 1.890e+00, 9.800e-01, 2.650e+00, 2.500e+00, 2.830e+00,\n",
              "        3.450e+00, 1.020e+00, 2.740e+00, 1.750e+00, 2.320e+00, 2.380e+00,\n",
              "        2.520e+00, 1.100e+00, 8.200e-01, 1.120e+00, 1.690e+00, 1.390e+00,\n",
              "        2.440e+00, 2.290e+00, 8.100e-01, 2.420e+00, 3.600e+00, 3.370e+00,\n",
              "        2.110e+00, 2.990e+00, 1.470e+00, 1.490e+00, 3.180e+00, 3.090e+00,\n",
              "        2.750e+00, 1.530e+00, 1.140e+00, 3.300e+00, 1.350e+00, 3.150e+00,\n",
              "        2.060e+00, 2.150e+00, 5.270e+00, 8.300e-01, 5.120e+00, 1.560e+00,\n",
              "        3.780e+00, 2.630e+00, 2.540e+00, 3.510e+00, 5.260e+00, 3.850e+00,\n",
              "        2.200e+00, 3.170e+00, 1.030e+00, 3.700e+00, 5.530e+00, 2.550e+00,\n",
              "        1.910e+00, 4.140e+00, 1.950e+00, 3.930e+00, 1.900e+00, 1.990e+00,\n",
              "        3.050e+00, 3.160e+00, 3.530e+00, 4.240e+00, 2.570e+00, 1.980e+00,\n",
              "        3.920e+00, 3.590e+00, 3.560e+00, 2.890e+00, 4.900e+00, 3.960e+00,\n",
              "        4.550e+00, 2.070e+00, 1.930e+00, 1.670e+00, 1.700e+00, 4.010e+00,\n",
              "        1.000e+01, 2.960e+00, 3.350e+00, 2.680e+00, 3.340e+00, 4.160e+00,\n",
              "        2.620e+00, 4.330e+00, 2.790e+00, 3.070e+00, 4.180e+00, 2.340e+00,\n",
              "        3.580e+00, 4.460e+00, 6.950e+00, 2.910e+00, 2.970e+00, 2.360e+00,\n",
              "        3.690e+00, 4.030e+00, 4.090e+00, 7.570e+00, 7.720e+00, 7.750e+00,\n",
              "        5.390e+00, 3.080e+00, 4.300e+00, 5.160e+00, 3.680e+00, 2.460e+00,\n",
              "        5.890e+00, 1.740e+00, 3.140e+00, 4.790e+00, 2.720e+00, 3.220e+00,\n",
              "        3.270e+00, 3.120e+00, 4.730e+00, 4.110e+00, 2.610e+00, 3.800e+00,\n",
              "        2.660e+00, 3.660e+00, 3.870e+00, 2.870e+00, 5.060e+00, 2.670e+00,\n",
              "        3.310e+00, 2.240e+00, 2.230e+00, 4.510e+00, 3.410e+00, 4.670e+00,\n",
              "        5.680e+00, 3.100e+00, 2.780e+00, 5.400e+00, 4.540e+00, 2.640e+00,\n",
              "        2.050e+00, 2.800e+00, 3.280e+00, 4.020e+00, 3.110e+00, 3.320e+00,\n",
              "        4.620e+00, 3.490e+00, 4.430e+00, 3.940e+00, 3.500e+00, 1.580e+00,\n",
              "        3.390e+00, 6.300e+00, 2.770e+00, 4.830e+00, 8.520e+00, 3.630e+00,\n",
              "        4.490e+00, 3.460e+00, 4.710e+00, 3.610e+00, 3.360e+00, 3.820e+00,\n",
              "        3.250e+00, 3.130e+00, 2.980e+00, 3.420e+00, 3.380e+00, 3.290e+00,\n",
              "        4.820e+00, 3.030e+00, 4.320e+00, 3.330e+00, 4.290e+00, 4.910e+00,\n",
              "        4.310e+00, 1.480e+00, 2.930e+00, 2.710e+00, 2.430e+00, 3.620e+00,\n",
              "        2.280e+00, 4.270e+00, 5.200e+00, 4.200e+00, 5.540e+00, 4.050e+00,\n",
              "        3.670e+00, 4.070e+00, 5.810e+00, 3.260e+00, 4.840e+00, 4.570e+00,\n",
              "        3.060e+00, 3.720e+00, 4.360e+00, 4.690e+00, 3.540e+00, 2.880e+00,\n",
              "        4.210e+00, 3.950e+00, 2.730e+00, 8.140e+00, 3.480e+00, 3.790e+00,\n",
              "        5.570e+00, 4.120e+00, 5.960e+00, 4.950e+00, 2.480e+00, 6.510e+00,\n",
              "        4.630e+00, 6.230e+00, 5.040e+00, 5.460e+00, 4.370e+00, 5.030e+00,\n",
              "        6.760e+00, 4.990e+00, 5.000e+00, 2.760e+00, 2.580e+00, 4.130e+00,\n",
              "        3.760e+00, 5.020e+00, 3.640e+00, 3.990e+00, 6.790e+00, 6.190e+00,\n",
              "        2.560e+00, 6.220e+00, 3.910e+00, 6.050e+00, 5.600e+00, 6.100e+00,\n",
              "        6.090e+00, 4.660e+00, 2.940e+00, 4.150e+00, 5.900e+00, 6.310e+00,\n",
              "        7.530e+00, 3.810e+00, 3.210e+00, 4.400e+00, 8.210e+00, 4.650e+00,\n",
              "        5.780e+00, 3.430e+00, 5.440e+00, 4.450e+00, 5.660e+00, 1.345e+01,\n",
              "        2.160e+00, 3.860e+00, 6.770e+00, 4.080e+00, 4.390e+00, 4.380e+00,\n",
              "        3.750e+00, 5.510e+00, 4.420e+00, 5.720e+00, 7.710e+00, 5.290e+00,\n",
              "        9.160e+00, 5.170e+00, 5.920e+00, 4.870e+00, 7.970e+00, 4.940e+00,\n",
              "        8.820e+00, 3.710e+00, 4.590e+00, 4.480e+00, 5.280e+00, 3.570e+00,\n",
              "        4.850e+00, 3.650e+00, 4.700e+00, 5.370e+00, 4.260e+00, 9.630e+00,\n",
              "        4.560e+00, 5.410e+00, 5.130e+00, 5.450e+00, 5.090e+00, 8.860e+00,\n",
              "        8.560e+00, 4.190e+00, 4.170e+00, 6.610e+00, 4.780e+00, 5.360e+00,\n",
              "        7.310e+00, 6.370e+00, 6.260e+00, 7.070e+00, 4.980e+00, 1.159e+01,\n",
              "        4.060e+00, 4.350e+00, 4.530e+00, 4.680e+00, 5.420e+00, 5.980e+00,\n",
              "        5.220e+00, 5.610e+00, 4.230e+00, 6.460e+00, 5.650e+00, 5.850e+00,\n",
              "        5.590e+00, 5.940e+00, 5.110e+00, 5.180e+00, 1.458e+01, 4.470e+00,\n",
              "        4.770e+00, 6.570e+00, 4.890e+00, 6.120e+00, 4.800e+00, 5.620e+00,\n",
              "        3.980e+00, 6.250e+00, 5.950e+00, 1.340e+01, 5.490e+00, 1.072e+01,\n",
              "        5.250e+00, 4.040e+00, 5.340e+00, 4.760e+00, 3.770e+00, 5.870e+00,\n",
              "        5.010e+00, 6.080e+00, 5.830e+00, 4.520e+00, 9.260e+00, 5.080e+00,\n",
              "        7.380e+00, 1.019e+01, 6.780e+00, 6.020e+00, 5.070e+00, 5.710e+00,\n",
              "        4.610e+00, 6.380e+00, 4.250e+00, 9.670e+00, 5.970e+00, 3.840e+00,\n",
              "        4.810e+00, 6.680e+00, 6.150e+00, 5.240e+00, 4.740e+00, 4.860e+00,\n",
              "        7.450e+00, 5.150e+00, 5.140e+00, 3.730e+00, 4.880e+00, 6.000e+00,\n",
              "        6.740e+00, 5.790e+00, 9.610e+00, 9.300e+00, 6.360e+00, 1.140e+01,\n",
              "        7.100e+00, 5.300e+00, 5.630e+00, 5.430e+00, 9.240e+00, 4.750e+00,\n",
              "        4.930e+00, 6.070e+00, 9.390e+00, 1.284e+01, 6.910e+00, 5.210e+00,\n",
              "        5.880e+00, 6.130e+00, 4.410e+00, 5.470e+00, 6.350e+00, 6.400e+00,\n",
              "        6.970e+00, 6.710e+00, 6.550e+00, 6.010e+00, 6.640e+00, 6.540e+00,\n",
              "        6.450e+00, 6.900e+00, 7.280e+00, 5.690e+00, 8.180e+00, 9.830e+00,\n",
              "        1.622e+01, 5.750e+00, 1.064e+01, 8.170e+00, 9.820e+00, 5.310e+00,\n",
              "        5.350e+00, 8.330e+00, 8.790e+00, 7.230e+00, 4.960e+00, 1.315e+01,\n",
              "        5.320e+00, 7.180e+00, 1.436e+01, 9.660e+00, 6.170e+00, 6.030e+00,\n",
              "        5.700e+00, 5.230e+00, 1.348e+01, 1.191e+01, 5.190e+00, 8.580e+00,\n",
              "        5.740e+00, 4.280e+00, 1.060e+01, 7.960e+00, 1.172e+01, 6.650e+00,\n",
              "        1.324e+01, 7.000e+00, 8.070e+00, 5.580e+00, 7.120e+00, 6.920e+00,\n",
              "        1.603e+01, 5.050e+00, 7.040e+00, 5.840e+00, 1.034e+01, 5.330e+00,\n",
              "        7.050e+00, 7.840e+00, 7.660e+00, 7.790e+00, 5.990e+00, 5.820e+00,\n",
              "        8.160e+00, 5.910e+00, 5.770e+00, 1.156e+01, 7.640e+00, 5.550e+00,\n",
              "        7.650e+00, 5.730e+00, 5.860e+00, 7.270e+00, 6.590e+00, 1.327e+01,\n",
              "        4.970e+00, 7.760e+00, 6.210e+00, 6.600e+00, 6.580e+00, 5.760e+00,\n",
              "        7.500e+00, 6.180e+00, 6.270e+00, 6.440e+00, 6.870e+00, 8.750e+00,\n",
              "        8.950e+00, 5.480e+00, 7.330e+00, 5.380e+00, 1.039e+01, 7.430e+00,\n",
              "        7.190e+00, 1.299e+01, 8.870e+00, 5.800e+00, 5.500e+00, 1.975e+01,\n",
              "        6.290e+00, 9.410e+00, 1.254e+01, 7.240e+00, 1.028e+01, 1.038e+01,\n",
              "        8.920e+00, 8.240e+00, 1.086e+01, 7.900e+00, 8.570e+00, 1.015e+01,\n",
              "        8.740e+00, 5.670e+00, 5.100e+00, 8.430e+00, 1.782e+01, 6.800e+00,\n",
              "        8.680e+00, 7.390e+00, 7.470e+00, 1.117e+01, 6.940e+00, 1.681e+01,\n",
              "        7.670e+00, 7.870e+00, 7.550e+00, 5.560e+00, 9.530e+00, 8.270e+00,\n",
              "        6.110e+00, 7.980e+00, 8.060e+00, 6.560e+00, 7.030e+00, 6.730e+00,\n",
              "        6.960e+00, 6.420e+00, 8.320e+00, 5.930e+00, 6.340e+00, 7.080e+00,\n",
              "        9.740e+00, 9.130e+00, 6.060e+00, 8.250e+00, 8.380e+00, 9.430e+00,\n",
              "        7.200e+00, 7.770e+00, 7.690e+00, 7.590e+00, 7.130e+00, 4.920e+00,\n",
              "        9.970e+00, 9.470e+00, 6.240e+00, 5.520e+00, 7.940e+00, 8.930e+00,\n",
              "        7.260e+00, 7.320e+00, 1.168e+01, 5.640e+00, 8.690e+00, 7.010e+00,\n",
              "        8.000e+00, 6.280e+00, 7.920e+00, 9.170e+00, 8.640e+00, 6.200e+00,\n",
              "        6.480e+00, 1.205e+01, 7.340e+00, 6.990e+00, 7.700e+00, 6.040e+00,\n",
              "        1.077e+01, 7.610e+00, 1.012e+01, 8.840e+00, 8.290e+00, 9.340e+00,\n",
              "        7.560e+00, 6.500e+00, 7.210e+00, 6.840e+00, 9.360e+00, 7.580e+00,\n",
              "        8.310e+00, 8.020e+00, 8.720e+00, 8.400e+00, 7.420e+00, 1.578e+01,\n",
              "        7.990e+00, 9.580e+00, 8.970e+00, 6.860e+00, 8.620e+00, 6.410e+00,\n",
              "        7.410e+00, 6.720e+00, 1.311e+01, 6.140e+00, 7.250e+00, 6.430e+00,\n",
              "        8.350e+00, 1.103e+01, 7.830e+00, 1.029e+01, 9.090e+00, 6.320e+00,\n",
              "        6.670e+00, 8.990e+00, 9.620e+00, 6.750e+00, 1.067e+01, 7.600e+00,\n",
              "        8.440e+00, 9.120e+00, 8.510e+00, 7.910e+00, 2.094e+01, 6.880e+00,\n",
              "        6.830e+00, 9.150e+00, 7.110e+00, 9.500e+00, 9.290e+00, 9.640e+00,\n",
              "        1.005e+01, 9.030e+00, 1.330e+01, 1.523e+01, 9.080e+00, 1.138e+01,\n",
              "        7.360e+00, 8.110e+00, 9.330e+00, 1.532e+01, 7.890e+00, 8.470e+00,\n",
              "        8.030e+00, 9.560e+00, 8.500e+00, 1.036e+01, 9.930e+00, 9.100e+00,\n",
              "        9.230e+00, 6.390e+00, 8.450e+00, 8.480e+00, 9.680e+00, 6.490e+00,\n",
              "        7.170e+00, 1.313e+01, 9.850e+00, 5.850e+01, 2.795e+01, 1.462e+01,\n",
              "        6.690e+00, 8.370e+00, 6.630e+00, 7.880e+00, 7.850e+00, 7.300e+00,\n",
              "        7.020e+00, 7.220e+00, 7.290e+00, 1.037e+01, 9.210e+00, 6.470e+00,\n",
              "        1.212e+01, 6.530e+00, 1.121e+01, 6.520e+00, 9.070e+00, 8.940e+00,\n",
              "        1.200e+01, 6.820e+00, 8.730e+00, 9.400e+00, 1.017e+01, 1.125e+01,\n",
              "        7.160e+00, 1.333e+01, 1.056e+01, 7.060e+00, 9.000e+00, 1.031e+01,\n",
              "        1.400e+01, 7.630e+00, 1.211e+01, 1.184e+01, 1.114e+01, 1.116e+01,\n",
              "        9.780e+00, 1.342e+01, 1.023e+01, 7.860e+00, 1.171e+01, 9.730e+00,\n",
              "        1.091e+01, 1.054e+01]),\n",
              " array([  6,   2,   1,   4,   3,   5,   7,  13,  28,  11,   8,   9,  52,\n",
              "         18,  15,  19,  10,  39,  26,  29,  12,  21,  96,  14,  34,  43,\n",
              "        121,  37,  49,  31,  91,  16,  87,  33,  23,  50,  20,  25, 232,\n",
              "         17,  47, 103,  65,  30,  27, 327,  32]),\n",
              " array([365, 355, 194,   0, 129, 220, 188,   6,  39, 314, 333,  46, 321,\n",
              "         12,  21, 249, 347, 364, 304, 233,  85,  75, 311,  67, 255, 284,\n",
              "        359, 269, 340,  22,  96, 345, 273, 309,  95, 215, 265, 192, 251,\n",
              "        302, 140, 234, 257,  30, 301, 294, 320, 154, 263, 180, 231, 297,\n",
              "        292, 191,  72, 362, 336, 116,  88, 224, 322, 324, 132, 295, 238,\n",
              "        209, 328,  38,   7, 272,  26, 288, 317, 207, 185, 158,   9, 198,\n",
              "        219, 342, 312, 243, 152, 137, 222, 346, 208, 279, 250, 164, 298,\n",
              "        260, 107, 199, 299,  20, 318, 216, 245, 189, 307, 310, 213, 278,\n",
              "         16, 178, 275, 163,  34, 280,   1, 170, 214, 248, 262, 339,  10,\n",
              "        290, 230,  53, 126,   3,  37, 353, 177, 246, 225,  18, 343, 326,\n",
              "        162, 240, 363, 247, 323, 125,  91, 286,  60,  58, 351, 201, 232,\n",
              "        258, 341, 244, 329, 253, 348,   2,  56,  68, 360,  76,  15, 226,\n",
              "        349,  11, 316, 281, 287,  14,  86, 261, 331,  51, 254, 103,  42,\n",
              "        325,  35, 203,   5, 276, 102,  71,  78,   8, 182,  79,  49, 156,\n",
              "        200, 106, 135,  81, 142, 179,  52, 237, 204, 181, 296, 335, 282,\n",
              "        274,  98, 157, 174, 223, 361, 283, 315,  36, 271, 139, 193, 136,\n",
              "        277, 221, 264, 236,  89,  23, 218, 235, 119, 350, 161, 259,  27,\n",
              "        167, 358,  59, 337,  43,  25, 127, 303, 115, 268,  44,  65, 252,\n",
              "         64, 111,  90, 338,  31, 241, 285, 183,  84, 166,  28,  83, 305,\n",
              "        356, 308, 229, 210, 153, 332, 120, 313,  69, 293,   4, 300,  40,\n",
              "        117, 206, 144, 354,  41, 270, 306,  33,  50,  80,  97, 118, 134,\n",
              "         17, 289, 121, 205,  74,  62,  29, 109, 168, 146, 242, 352, 155,\n",
              "        291, 266, 101, 190, 327, 217, 171, 110,  87, 202,  70, 147, 169,\n",
              "        212, 122, 330,  54, 196,  57,  73, 149, 239,  63, 195,  47, 319,\n",
              "         19, 112, 344,  77, 160, 141,  13,  24, 150, 128, 176, 357, 211,\n",
              "        172, 256, 165,  32, 105, 267, 148,  93,  45, 175, 159,  48, 100,\n",
              "        184, 114, 133, 186, 334,  94, 151, 228, 113,  55,  66, 173, 104,\n",
              "        197,  99, 131, 143, 124, 130, 187, 145, 108, 123,  92,  61, 138,\n",
              "        227,  82])]"
            ]
          },
          "metadata": {},
          "execution_count": 15
        }
      ]
    },
    {
      "cell_type": "markdown",
      "source": [
        "## 3. ***Data Wrangling***"
      ],
      "metadata": {
        "id": "dauF4eBmngu3"
      }
    },
    {
      "cell_type": "markdown",
      "source": [
        "### Data Wrangling Code"
      ],
      "metadata": {
        "id": "bKJF3rekwFvQ"
      }
    },
    {
      "cell_type": "code",
      "source": [
        "# making acopy of dataframe.\n",
        "airbnb = df.copy()"
      ],
      "metadata": {
        "id": "wk-9a2fpoLcV"
      },
      "execution_count": 16,
      "outputs": []
    },
    {
      "cell_type": "code",
      "source": [
        "# filling na values\n",
        "airbnb.fillna({'reviews_per_month':0},inplace=True)\n",
        "airbnb.fillna({'host_name':'Not Mentioned'}, inplace = True)"
      ],
      "metadata": {
        "id": "i0MXE2jvY8qC"
      },
      "execution_count": 17,
      "outputs": []
    },
    {
      "cell_type": "code",
      "source": [
        "#dropping columns that are not significant for our future data exploration and predictions\n",
        "airbnb.drop(['id','last_review','name'],axis=1,inplace=True)"
      ],
      "metadata": {
        "id": "hfrVq4i-Y8td"
      },
      "execution_count": 18,
      "outputs": []
    },
    {
      "cell_type": "code",
      "source": [
        "#let's heck the reltionship between the numerical variables\n",
        "\n",
        "#set up figure size\n",
        "plt.figure(figsize=(15,5))\n",
        "# plot scatterplot\n",
        "sns.scatterplot( y='minimum_nights', x='price', data=airbnb)"
      ],
      "metadata": {
        "colab": {
          "base_uri": "https://localhost:8080/",
          "height": 481
        },
        "id": "6XmqSjJqgY3Y",
        "outputId": "e00578d7-0d1d-4458-ad6a-20c96a1ccc17"
      },
      "execution_count": 19,
      "outputs": [
        {
          "output_type": "execute_result",
          "data": {
            "text/plain": [
              "<Axes: xlabel='price', ylabel='minimum_nights'>"
            ]
          },
          "metadata": {},
          "execution_count": 19
        },
        {
          "output_type": "display_data",
          "data": {
            "text/plain": [
              "<Figure size 1500x500 with 1 Axes>"
            ],
            "image/png": "[encoded data removed]"
          },
          "metadata": {}
        }
      ]
    },
    {
      "cell_type": "code",
      "source": [
        "sns.boxenplot(airbnb['price'],orient='horizontal')\n",
        "\n",
        "plt.show()"
      ],
      "metadata": {
        "colab": {
          "base_uri": "https://localhost:8080/",
          "height": 430
        },
        "id": "zyh-BWPogoW2",
        "outputId": "a7da0abb-e058-463d-fbb7-1efb081e274f"
      },
      "execution_count": 20,
      "outputs": [
        {
          "output_type": "display_data",
          "data": {
            "text/plain": [
              "<Figure size 640x480 with 1 Axes>"
            ],
            "image/png": "[encoded data removed]"
          },
          "metadata": {}
        }
      ]
    },
    {
      "cell_type": "code",
      "source": [
        "airbnb['price'].describe()"
      ],
      "metadata": {
        "colab": {
          "base_uri": "https://localhost:8080/"
        },
        "id": "k8iPQ9K4hPVc",
        "outputId": "0f99212c-8f37-4a7a-984b-37650627760e"
      },
      "execution_count": 21,
      "outputs": [
        {
          "output_type": "execute_result",
          "data": {
            "text/plain": [
              "count    48895.000000\n",
              "mean       152.720687\n",
              "std        240.154170\n",
              "min          0.000000\n",
              "25%         69.000000\n",
              "50%        106.000000\n",
              "75%        175.000000\n",
              "max      10000.000000\n",
              "Name: price, dtype: float64"
            ]
          },
          "metadata": {},
          "execution_count": 21
        }
      ]
    },
    {
      "cell_type": "code",
      "source": [
        "#Let's remove the outliers from the price column\n",
        "\n",
        "# Select the column where you want to remove outliers\n",
        "column_name = 'price'\n",
        "\n",
        "# Calculate the IQR and define the threshold\n",
        "q1 = airbnb[column_name].quantile(0.25)\n",
        "q3 = airbnb[column_name].quantile(0.75)\n",
        "iqr = q3 - q1\n",
        "threshold = 1.5\n",
        "\n",
        "# Remove the outliers\n",
        "filtered_airbnb = airbnb[(airbnb[column_name] >= q1 - threshold*iqr) & (airbnb[column_name] <= q3 + threshold*iqr)]"
      ],
      "metadata": {
        "id": "v3ECfnWOgyuO"
      },
      "execution_count": 22,
      "outputs": []
    },
    {
      "cell_type": "code",
      "source": [
        "#Now, let’s check the boxen plot once again as by now I have removed the outliers.\n",
        "sns.boxenplot(filtered_airbnb['price'],orient='horizontal')"
      ],
      "metadata": {
        "colab": {
          "base_uri": "https://localhost:8080/",
          "height": 447
        },
        "id": "9wD0DSurhci3",
        "outputId": "24aa6726-e3be-4463-91e1-aaad391a8b91"
      },
      "execution_count": 23,
      "outputs": [
        {
          "output_type": "execute_result",
          "data": {
            "text/plain": [
              "<Axes: >"
            ]
          },
          "metadata": {},
          "execution_count": 23
        },
        {
          "output_type": "display_data",
          "data": {
            "text/plain": [
              "<Figure size 640x480 with 1 Axes>"
            ],
            "image/png": "[encoded data removed]"
          },
          "metadata": {}
        }
      ]
    },
    {
      "cell_type": "code",
      "source": [
        "#distribution of price after removing outliers\n",
        "\n",
        "# plot kdeplot\n",
        "sns.kdeplot(filtered_airbnb['price'])"
      ],
      "metadata": {
        "colab": {
          "base_uri": "https://localhost:8080/",
          "height": 466
        },
        "id": "BLidxhYbhm3D",
        "outputId": "637aa0af-0094-4012-b7ba-c5a2950a5d7c"
      },
      "execution_count": 24,
      "outputs": [
        {
          "output_type": "execute_result",
          "data": {
            "text/plain": [
              "<Axes: xlabel='price', ylabel='Density'>"
            ]
          },
          "metadata": {},
          "execution_count": 24
        },
        {
          "output_type": "display_data",
          "data": {
            "text/plain": [
              "<Figure size 640x480 with 1 Axes>"
            ],
            "image/png": "[encoded data removed]"
          },
          "metadata": {}
        }
      ]
    },
    {
      "cell_type": "code",
      "source": [
        "# Lets add a new column named Price range\n",
        "\n",
        "# Lets define a new column named Price range\n",
        "\n",
        "def get_price_range(pr):\n",
        "  if pr>= 0 and pr<50:\n",
        "    price_range = \"0-50\"\n",
        "  elif pr>= 50 and pr<100:\n",
        "    price_range = \"50-100\"\n",
        "  elif pr>= 100 and pr<150:\n",
        "    price_range = \"100-150\"\n",
        "  elif pr>= 150 and pr<200:\n",
        "    price_range = \"150-200\"\n",
        "  elif pr>= 200 and pr<250:\n",
        "    price_range = \"200-250\"\n",
        "  elif pr>= 250  and pr<300:\n",
        "    price_range = \"250-300\"\n",
        "  else:\n",
        "    price_range = \">300\"\n",
        "  return price_range"
      ],
      "metadata": {
        "id": "BWoMPTUjQ0Vc"
      },
      "execution_count": 25,
      "outputs": []
    },
    {
      "cell_type": "code",
      "source": [
        "# Lets add a new column named Price range\n",
        "airbnb['price_range'] = airbnb.apply(lambda x: get_price_range(x['price']), axis= 1)"
      ],
      "metadata": {
        "id": "ahla4ra5RIdm"
      },
      "execution_count": 26,
      "outputs": []
    },
    {
      "cell_type": "code",
      "source": [
        "#check the dataset now\n",
        "airbnb.head(5)"
      ],
      "metadata": {
        "colab": {
          "base_uri": "https://localhost:8080/",
          "height": 357
        },
        "id": "yfeHD7FxvNew",
        "outputId": "62f5846a-4e24-43a6-9c80-caab6d6dd552"
      },
      "execution_count": 27,
      "outputs": [
        {
          "output_type": "execute_result",
          "data": {
            "text/plain": [
              "   host_id    host_name neighbourhood_group neighbourhood  latitude  \\\n",
              "0     2787         John            Brooklyn    Kensington  40.64749   \n",
              "1     2845     Jennifer           Manhattan       Midtown  40.75362   \n",
              "2     4632    Elisabeth           Manhattan        Harlem  40.80902   \n",
              "3     4869  LisaRoxanne            Brooklyn  Clinton Hill  40.68514   \n",
              "4     7192        Laura           Manhattan   East Harlem  40.79851   \n",
              "\n",
              "   longitude        room_type  price  minimum_nights  number_of_reviews  \\\n",
              "0  -73.97237     Private room    149               1                  9   \n",
              "1  -73.98377  Entire home/apt    225               1                 45   \n",
              "2  -73.94190     Private room    150               3                  0   \n",
              "3  -73.95976  Entire home/apt     89               1                270   \n",
              "4  -73.94399  Entire home/apt     80              10                  9   \n",
              "\n",
              "   reviews_per_month  calculated_host_listings_count  availability_365  \\\n",
              "0               0.21                               6               365   \n",
              "1               0.38                               2               355   \n",
              "2               0.00                               1               365   \n",
              "3               4.64                               1               194   \n",
              "4               0.10                               1                 0   \n",
              "\n",
              "  price_range  \n",
              "0     100-150  \n",
              "1     200-250  \n",
              "2     150-200  \n",
              "3      50-100  \n",
              "4      50-100  "
            ],
            "text/html": [
              "\n",
              "\n",
              "  <div id=\"df-0e991b8f-8a82-4bc4-b2a3-e9dc6d8fc14b\">\n",
              "    <div class=\"colab-df-container\">\n",
              "      <div>\n",
              "<style scoped>\n",
              "    .dataframe tbody tr th:only-of-type {\n",
              "        vertical-align: middle;\n",
              "    }\n",
              "\n",
              "    .dataframe tbody tr th {\n",
              "        vertical-align: top;\n",
              "    }\n",
              "\n",
              "    .dataframe thead th {\n",
              "        text-align: right;\n",
              "    }\n",
              "</style>\n",
              "<table border=\"1\" class=\"dataframe\">\n",
              "  <thead>\n",
              "    <tr style=\"text-align: right;\">\n",
              "      <th></th>\n",
              "      <th>host_id</th>\n",
              "      <th>host_name</th>\n",
              "      <th>neighbourhood_group</th>\n",
              "      <th>neighbourhood</th>\n",
              "      <th>latitude</th>\n",
              "      <th>longitude</th>\n",
              "      <th>room_type</th>\n",
              "      <th>price</th>\n",
              "      <th>minimum_nights</th>\n",
              "      <th>number_of_reviews</th>\n",
              "      <th>reviews_per_month</th>\n",
              "      <th>calculated_host_listings_count</th>\n",
              "      <th>availability_365</th>\n",
              "      <th>price_range</th>\n",
              "    </tr>\n",
              "  </thead>\n",
              "  <tbody>\n",
              "    <tr>\n",
              "      <th>0</th>\n",
              "      <td>2787</td>\n",
              "      <td>John</td>\n",
              "      <td>Brooklyn</td>\n",
              "      <td>Kensington</td>\n",
              "      <td>40.64749</td>\n",
              "      <td>-73.97237</td>\n",
              "      <td>Private room</td>\n",
              "      <td>149</td>\n",
              "      <td>1</td>\n",
              "      <td>9</td>\n",
              "      <td>0.21</td>\n",
              "      <td>6</td>\n",
              "      <td>365</td>\n",
              "      <td>100-150</td>\n",
              "    </tr>\n",
              "    <tr>\n",
              "      <th>1</th>\n",
              "      <td>2845</td>\n",
              "      <td>Jennifer</td>\n",
              "      <td>Manhattan</td>\n",
              "      <td>Midtown</td>\n",
              "      <td>40.75362</td>\n",
              "      <td>-73.98377</td>\n",
              "      <td>Entire home/apt</td>\n",
              "      <td>225</td>\n",
              "      <td>1</td>\n",
              "      <td>45</td>\n",
              "      <td>0.38</td>\n",
              "      <td>2</td>\n",
              "      <td>355</td>\n",
              "      <td>200-250</td>\n",
              "    </tr>\n",
              "    <tr>\n",
              "      <th>2</th>\n",
              "      <td>4632</td>\n",
              "      <td>Elisabeth</td>\n",
              "      <td>Manhattan</td>\n",
              "      <td>Harlem</td>\n",
              "      <td>40.80902</td>\n",
              "      <td>-73.94190</td>\n",
              "      <td>Private room</td>\n",
              "      <td>150</td>\n",
              "      <td>3</td>\n",
              "      <td>0</td>\n",
              "      <td>0.00</td>\n",
              "      <td>1</td>\n",
              "      <td>365</td>\n",
              "      <td>150-200</td>\n",
              "    </tr>\n",
              "    <tr>\n",
              "      <th>3</th>\n",
              "      <td>4869</td>\n",
              "      <td>LisaRoxanne</td>\n",
              "      <td>Brooklyn</td>\n",
              "      <td>Clinton Hill</td>\n",
              "      <td>40.68514</td>\n",
              "      <td>-73.95976</td>\n",
              "      <td>Entire home/apt</td>\n",
              "      <td>89</td>\n",
              "      <td>1</td>\n",
              "      <td>270</td>\n",
              "      <td>4.64</td>\n",
              "      <td>1</td>\n",
              "      <td>194</td>\n",
              "      <td>50-100</td>\n",
              "    </tr>\n",
              "    <tr>\n",
              "      <th>4</th>\n",
              "      <td>7192</td>\n",
              "      <td>Laura</td>\n",
              "      <td>Manhattan</td>\n",
              "      <td>East Harlem</td>\n",
              "      <td>40.79851</td>\n",
              "      <td>-73.94399</td>\n",
              "      <td>Entire home/apt</td>\n",
              "      <td>80</td>\n",
              "      <td>10</td>\n",
              "      <td>9</td>\n",
              "      <td>0.10</td>\n",
              "      <td>1</td>\n",
              "      <td>0</td>\n",
              "      <td>50-100</td>\n",
              "    </tr>\n",
              "  </tbody>\n",
              "</table>\n",
              "</div>\n",
              "      <button class=\"colab-df-convert\" onclick=\"convertToInteractive('df-0e991b8f-8a82-4bc4-b2a3-e9dc6d8fc14b')\"\n",
              "              title=\"Convert this dataframe to an interactive table.\"\n",
              "              style=\"display:none;\">\n",
              "\n",
              "  <svg xmlns=\"http://www.w3.org/2000/svg\" height=\"24px\"viewBox=\"0 0 24 24\"\n",
              "       width=\"24px\">\n",
              "    <path d=\"M0 0h24v24H0V0z\" fill=\"none\"/>\n",
              "    <path d=\"M18.56 5.44l.94 2.06.94-2.06 2.06-.94-2.06-.94-.94-2.06-.94 2.06-2.06.94zm-11 1L8.5 8.5l.94-2.06 2.06-.94-2.06-.94L8.5 2.5l-.94 2.06-2.06.94zm10 10l.94 2.06.94-2.06 2.06-.94-2.06-.94-.94-2.06-.94 2.06-2.06.94z\"/><path d=\"M17.41 7.96l-1.37-1.37c-.4-.4-.92-.59-1.43-.59-.52 0-1.04.2-1.43.59L10.3 9.45l-7.72 7.72c-.78.78-.78 2.05 0 2.83L4 21.41c.39.39.9.59 1.41.59.51 0 1.02-.2 1.41-.59l7.78-7.78 2.81-2.81c.8-.78.8-2.07 0-2.86zM5.41 20L4 18.59l7.72-7.72 1.47 1.35L5.41 20z\"/>\n",
              "  </svg>\n",
              "      </button>\n",
              "\n",
              "\n",
              "\n",
              "    <div id=\"df-ec4277e0-de2f-4f38-a600-29ecc4aae67d\">\n",
              "      <button class=\"colab-df-quickchart\" onclick=\"quickchart('df-ec4277e0-de2f-4f38-a600-29ecc4aae67d')\"\n",
              "              title=\"Suggest charts.\"\n",
              "              style=\"display:none;\">\n",
              "\n",
              "<svg xmlns=\"http://www.w3.org/2000/svg\" height=\"24px\"viewBox=\"0 0 24 24\"\n",
              "     width=\"24px\">\n",
              "    <g>\n",
              "        <path d=\"M19 3H5c-1.1 0-2 .9-2 2v14c0 1.1.9 2 2 2h14c1.1 0 2-.9 2-2V5c0-1.1-.9-2-2-2zM9 17H7v-7h2v7zm4 0h-2V7h2v10zm4 0h-2v-4h2v4z\"/>\n",
              "    </g>\n",
              "</svg>\n",
              "      </button>\n",
              "    </div>\n",
              "\n",
              "<style>\n",
              "  .colab-df-quickchart {\n",
              "    background-color: #E8F0FE;\n",
              "    border: none;\n",
              "    border-radius: 50%;\n",
              "    cursor: pointer;\n",
              "    display: none;\n",
              "    fill: #1967D2;\n",
              "    height: 32px;\n",
              "    padding: 0 0 0 0;\n",
              "    width: 32px;\n",
              "  }\n",
              "\n",
              "  .colab-df-quickchart:hover {\n",
              "    background-color: #E2EBFA;\n",
              "    box-shadow: 0px 1px 2px rgba(60, 64, 67, 0.3), 0px 1px 3px 1px rgba(60, 64, 67, 0.15);\n",
              "    fill: #174EA6;\n",
              "  }\n",
              "\n",
              "  [theme=dark] .colab-df-quickchart {\n",
              "    background-color: #3B4455;\n",
              "    fill: #D2E3FC;\n",
              "  }\n",
              "\n",
              "  [theme=dark] .colab-df-quickchart:hover {\n",
              "    background-color: #434B5C;\n",
              "    box-shadow: 0px 1px 3px 1px rgba(0, 0, 0, 0.15);\n",
              "    filter: drop-shadow(0px 1px 2px rgba(0, 0, 0, 0.3));\n",
              "    fill: #FFFFFF;\n",
              "  }\n",
              "</style>\n",
              "\n",
              "    <script>\n",
              "      async function quickchart(key) {\n",
              "        const containerElement = document.querySelector('#' + key);\n",
              "        const charts = await google.colab.kernel.invokeFunction(\n",
              "            'suggestCharts', [key], {});\n",
              "      }\n",
              "    </script>\n",
              "\n",
              "      <script>\n",
              "\n",
              "function displayQuickchartButton(domScope) {\n",
              "  let quickchartButtonEl =\n",
              "    domScope.querySelector('#df-ec4277e0-de2f-4f38-a600-29ecc4aae67d button.colab-df-quickchart');\n",
              "  quickchartButtonEl.style.display =\n",
              "    google.colab.kernel.accessAllowed ? 'block' : 'none';\n",
              "}\n",
              "\n",
              "        displayQuickchartButton(document);\n",
              "      </script>\n",
              "      <style>\n",
              "    .colab-df-container {\n",
              "      display:flex;\n",
              "      flex-wrap:wrap;\n",
              "      gap: 12px;\n",
              "    }\n",
              "\n",
              "    .colab-df-convert {\n",
              "      background-color: #E8F0FE;\n",
              "      border: none;\n",
              "      border-radius: 50%;\n",
              "      cursor: pointer;\n",
              "      display: none;\n",
              "      fill: #1967D2;\n",
              "      height: 32px;\n",
              "      padding: 0 0 0 0;\n",
              "      width: 32px;\n",
              "    }\n",
              "\n",
              "    .colab-df-convert:hover {\n",
              "      background-color: #E2EBFA;\n",
              "      box-shadow: 0px 1px 2px rgba(60, 64, 67, 0.3), 0px 1px 3px 1px rgba(60, 64, 67, 0.15);\n",
              "      fill: #174EA6;\n",
              "    }\n",
              "\n",
              "    [theme=dark] .colab-df-convert {\n",
              "      background-color: #3B4455;\n",
              "      fill: #D2E3FC;\n",
              "    }\n",
              "\n",
              "    [theme=dark] .colab-df-convert:hover {\n",
              "      background-color: #434B5C;\n",
              "      box-shadow: 0px 1px 3px 1px rgba(0, 0, 0, 0.15);\n",
              "      filter: drop-shadow(0px 1px 2px rgba(0, 0, 0, 0.3));\n",
              "      fill: #FFFFFF;\n",
              "    }\n",
              "  </style>\n",
              "\n",
              "      <script>\n",
              "        const buttonEl =\n",
              "          document.querySelector('#df-0e991b8f-8a82-4bc4-b2a3-e9dc6d8fc14b button.colab-df-convert');\n",
              "        buttonEl.style.display =\n",
              "          google.colab.kernel.accessAllowed ? 'block' : 'none';\n",
              "\n",
              "        async function convertToInteractive(key) {\n",
              "          const element = document.querySelector('#df-0e991b8f-8a82-4bc4-b2a3-e9dc6d8fc14b');\n",
              "          const dataTable =\n",
              "            await google.colab.kernel.invokeFunction('convertToInteractive',\n",
              "                                                     [key], {});\n",
              "          if (!dataTable) return;\n",
              "\n",
              "          const docLinkHtml = 'Like what you see? Visit the ' +\n",
              "            '<a target=\"_blank\" href=https://colab.research.google.com/notebooks/data_table.ipynb>data table notebook</a>'\n",
              "            + ' to learn more about interactive tables.';\n",
              "          element.innerHTML = '';\n",
              "          dataTable['output_type'] = 'display_data';\n",
              "          await google.colab.output.renderOutput(dataTable, element);\n",
              "          const docLink = document.createElement('div');\n",
              "          docLink.innerHTML = docLinkHtml;\n",
              "          element.appendChild(docLink);\n",
              "        }\n",
              "      </script>\n",
              "    </div>\n",
              "  </div>\n"
            ]
          },
          "metadata": {},
          "execution_count": 27
        }
      ]
    },
    {
      "cell_type": "code",
      "source": [
        "airbnb.describe()"
      ],
      "metadata": {
        "colab": {
          "base_uri": "https://localhost:8080/",
          "height": 364
        },
        "id": "WC0iVLCwvl2H",
        "outputId": "87af6ae6-907c-4448-a427-740270aed9da"
      },
      "execution_count": 28,
      "outputs": [
        {
          "output_type": "execute_result",
          "data": {
            "text/plain": [
              "            host_id      latitude     longitude         price  minimum_nights  \\\n",
              "count  4.889500e+04  48895.000000  48895.000000  48895.000000    48895.000000   \n",
              "mean   6.762001e+07     40.728949    -73.952170    152.720687        7.029962   \n",
              "std    7.861097e+07      0.054530      0.046157    240.154170       20.510550   \n",
              "min    2.438000e+03     40.499790    -74.244420      0.000000        1.000000   \n",
              "25%    7.822033e+06     40.690100    -73.983070     69.000000        1.000000   \n",
              "50%    3.079382e+07     40.723070    -73.955680    106.000000        3.000000   \n",
              "75%    1.074344e+08     40.763115    -73.936275    175.000000        5.000000   \n",
              "max    2.743213e+08     40.913060    -73.712990  10000.000000     1250.000000   \n",
              "\n",
              "       number_of_reviews  reviews_per_month  calculated_host_listings_count  \\\n",
              "count       48895.000000       48895.000000                    48895.000000   \n",
              "mean           23.274466           1.090910                        7.143982   \n",
              "std            44.550582           1.597283                       32.952519   \n",
              "min             0.000000           0.000000                        1.000000   \n",
              "25%             1.000000           0.040000                        1.000000   \n",
              "50%             5.000000           0.370000                        1.000000   \n",
              "75%            24.000000           1.580000                        2.000000   \n",
              "max           629.000000          58.500000                      327.000000   \n",
              "\n",
              "       availability_365  \n",
              "count      48895.000000  \n",
              "mean         112.781327  \n",
              "std          131.622289  \n",
              "min            0.000000  \n",
              "25%            0.000000  \n",
              "50%           45.000000  \n",
              "75%          227.000000  \n",
              "max          365.000000  "
            ],
            "text/html": [
              "\n",
              "\n",
              "  <div id=\"df-b2833385-086c-4884-9434-4b2f8b95cb34\">\n",
              "    <div class=\"colab-df-container\">\n",
              "      <div>\n",
              "<style scoped>\n",
              "    .dataframe tbody tr th:only-of-type {\n",
              "        vertical-align: middle;\n",
              "    }\n",
              "\n",
              "    .dataframe tbody tr th {\n",
              "        vertical-align: top;\n",
              "    }\n",
              "\n",
              "    .dataframe thead th {\n",
              "        text-align: right;\n",
              "    }\n",
              "</style>\n",
              "<table border=\"1\" class=\"dataframe\">\n",
              "  <thead>\n",
              "    <tr style=\"text-align: right;\">\n",
              "      <th></th>\n",
              "      <th>host_id</th>\n",
              "      <th>latitude</th>\n",
              "      <th>longitude</th>\n",
              "      <th>price</th>\n",
              "      <th>minimum_nights</th>\n",
              "      <th>number_of_reviews</th>\n",
              "      <th>reviews_per_month</th>\n",
              "      <th>calculated_host_listings_count</th>\n",
              "      <th>availability_365</th>\n",
              "    </tr>\n",
              "  </thead>\n",
              "  <tbody>\n",
              "    <tr>\n",
              "      <th>count</th>\n",
              "      <td>4.889500e+04</td>\n",
              "      <td>48895.000000</td>\n",
              "      <td>48895.000000</td>\n",
              "      <td>48895.000000</td>\n",
              "      <td>48895.000000</td>\n",
              "      <td>48895.000000</td>\n",
              "      <td>48895.000000</td>\n",
              "      <td>48895.000000</td>\n",
              "      <td>48895.000000</td>\n",
              "    </tr>\n",
              "    <tr>\n",
              "      <th>mean</th>\n",
              "      <td>6.762001e+07</td>\n",
              "      <td>40.728949</td>\n",
              "      <td>-73.952170</td>\n",
              "      <td>152.720687</td>\n",
              "      <td>7.029962</td>\n",
              "      <td>23.274466</td>\n",
              "      <td>1.090910</td>\n",
              "      <td>7.143982</td>\n",
              "      <td>112.781327</td>\n",
              "    </tr>\n",
              "    <tr>\n",
              "      <th>std</th>\n",
              "      <td>7.861097e+07</td>\n",
              "      <td>0.054530</td>\n",
              "      <td>0.046157</td>\n",
              "      <td>240.154170</td>\n",
              "      <td>20.510550</td>\n",
              "      <td>44.550582</td>\n",
              "      <td>1.597283</td>\n",
              "      <td>32.952519</td>\n",
              "      <td>131.622289</td>\n",
              "    </tr>\n",
              "    <tr>\n",
              "      <th>min</th>\n",
              "      <td>2.438000e+03</td>\n",
              "      <td>40.499790</td>\n",
              "      <td>-74.244420</td>\n",
              "      <td>0.000000</td>\n",
              "      <td>1.000000</td>\n",
              "      <td>0.000000</td>\n",
              "      <td>0.000000</td>\n",
              "      <td>1.000000</td>\n",
              "      <td>0.000000</td>\n",
              "    </tr>\n",
              "    <tr>\n",
              "      <th>25%</th>\n",
              "      <td>7.822033e+06</td>\n",
              "      <td>40.690100</td>\n",
              "      <td>-73.983070</td>\n",
              "      <td>69.000000</td>\n",
              "      <td>1.000000</td>\n",
              "      <td>1.000000</td>\n",
              "      <td>0.040000</td>\n",
              "      <td>1.000000</td>\n",
              "      <td>0.000000</td>\n",
              "    </tr>\n",
              "    <tr>\n",
              "      <th>50%</th>\n",
              "      <td>3.079382e+07</td>\n",
              "      <td>40.723070</td>\n",
              "      <td>-73.955680</td>\n",
              "      <td>106.000000</td>\n",
              "      <td>3.000000</td>\n",
              "      <td>5.000000</td>\n",
              "      <td>0.370000</td>\n",
              "      <td>1.000000</td>\n",
              "      <td>45.000000</td>\n",
              "    </tr>\n",
              "    <tr>\n",
              "      <th>75%</th>\n",
              "      <td>1.074344e+08</td>\n",
              "      <td>40.763115</td>\n",
              "      <td>-73.936275</td>\n",
              "      <td>175.000000</td>\n",
              "      <td>5.000000</td>\n",
              "      <td>24.000000</td>\n",
              "      <td>1.580000</td>\n",
              "      <td>2.000000</td>\n",
              "      <td>227.000000</td>\n",
              "    </tr>\n",
              "    <tr>\n",
              "      <th>max</th>\n",
              "      <td>2.743213e+08</td>\n",
              "      <td>40.913060</td>\n",
              "      <td>-73.712990</td>\n",
              "      <td>10000.000000</td>\n",
              "      <td>1250.000000</td>\n",
              "      <td>629.000000</td>\n",
              "      <td>58.500000</td>\n",
              "      <td>327.000000</td>\n",
              "      <td>365.000000</td>\n",
              "    </tr>\n",
              "  </tbody>\n",
              "</table>\n",
              "</div>\n",
              "      <button class=\"colab-df-convert\" onclick=\"convertToInteractive('df-b2833385-086c-4884-9434-4b2f8b95cb34')\"\n",
              "              title=\"Convert this dataframe to an interactive table.\"\n",
              "              style=\"display:none;\">\n",
              "\n",
              "  <svg xmlns=\"http://www.w3.org/2000/svg\" height=\"24px\"viewBox=\"0 0 24 24\"\n",
              "       width=\"24px\">\n",
              "    <path d=\"M0 0h24v24H0V0z\" fill=\"none\"/>\n",
              "    <path d=\"M18.56 5.44l.94 2.06.94-2.06 2.06-.94-2.06-.94-.94-2.06-.94 2.06-2.06.94zm-11 1L8.5 8.5l.94-2.06 2.06-.94-2.06-.94L8.5 2.5l-.94 2.06-2.06.94zm10 10l.94 2.06.94-2.06 2.06-.94-2.06-.94-.94-2.06-.94 2.06-2.06.94z\"/><path d=\"M17.41 7.96l-1.37-1.37c-.4-.4-.92-.59-1.43-.59-.52 0-1.04.2-1.43.59L10.3 9.45l-7.72 7.72c-.78.78-.78 2.05 0 2.83L4 21.41c.39.39.9.59 1.41.59.51 0 1.02-.2 1.41-.59l7.78-7.78 2.81-2.81c.8-.78.8-2.07 0-2.86zM5.41 20L4 18.59l7.72-7.72 1.47 1.35L5.41 20z\"/>\n",
              "  </svg>\n",
              "      </button>\n",
              "\n",
              "\n",
              "\n",
              "    <div id=\"df-0982f61c-57f8-4729-91d8-8efacf6f71d9\">\n",
              "      <button class=\"colab-df-quickchart\" onclick=\"quickchart('df-0982f61c-57f8-4729-91d8-8efacf6f71d9')\"\n",
              "              title=\"Suggest charts.\"\n",
              "              style=\"display:none;\">\n",
              "\n",
              "<svg xmlns=\"http://www.w3.org/2000/svg\" height=\"24px\"viewBox=\"0 0 24 24\"\n",
              "     width=\"24px\">\n",
              "    <g>\n",
              "        <path d=\"M19 3H5c-1.1 0-2 .9-2 2v14c0 1.1.9 2 2 2h14c1.1 0 2-.9 2-2V5c0-1.1-.9-2-2-2zM9 17H7v-7h2v7zm4 0h-2V7h2v10zm4 0h-2v-4h2v4z\"/>\n",
              "    </g>\n",
              "</svg>\n",
              "      </button>\n",
              "    </div>\n",
              "\n",
              "<style>\n",
              "  .colab-df-quickchart {\n",
              "    background-color: #E8F0FE;\n",
              "    border: none;\n",
              "    border-radius: 50%;\n",
              "    cursor: pointer;\n",
              "    display: none;\n",
              "    fill: #1967D2;\n",
              "    height: 32px;\n",
              "    padding: 0 0 0 0;\n",
              "    width: 32px;\n",
              "  }\n",
              "\n",
              "  .colab-df-quickchart:hover {\n",
              "    background-color: #E2EBFA;\n",
              "    box-shadow: 0px 1px 2px rgba(60, 64, 67, 0.3), 0px 1px 3px 1px rgba(60, 64, 67, 0.15);\n",
              "    fill: #174EA6;\n",
              "  }\n",
              "\n",
              "  [theme=dark] .colab-df-quickchart {\n",
              "    background-color: #3B4455;\n",
              "    fill: #D2E3FC;\n",
              "  }\n",
              "\n",
              "  [theme=dark] .colab-df-quickchart:hover {\n",
              "    background-color: #434B5C;\n",
              "    box-shadow: 0px 1px 3px 1px rgba(0, 0, 0, 0.15);\n",
              "    filter: drop-shadow(0px 1px 2px rgba(0, 0, 0, 0.3));\n",
              "    fill: #FFFFFF;\n",
              "  }\n",
              "</style>\n",
              "\n",
              "    <script>\n",
              "      async function quickchart(key) {\n",
              "        const containerElement = document.querySelector('#' + key);\n",
              "        const charts = await google.colab.kernel.invokeFunction(\n",
              "            'suggestCharts', [key], {});\n",
              "      }\n",
              "    </script>\n",
              "\n",
              "      <script>\n",
              "\n",
              "function displayQuickchartButton(domScope) {\n",
              "  let quickchartButtonEl =\n",
              "    domScope.querySelector('#df-0982f61c-57f8-4729-91d8-8efacf6f71d9 button.colab-df-quickchart');\n",
              "  quickchartButtonEl.style.display =\n",
              "    google.colab.kernel.accessAllowed ? 'block' : 'none';\n",
              "}\n",
              "\n",
              "        displayQuickchartButton(document);\n",
              "      </script>\n",
              "      <style>\n",
              "    .colab-df-container {\n",
              "      display:flex;\n",
              "      flex-wrap:wrap;\n",
              "      gap: 12px;\n",
              "    }\n",
              "\n",
              "    .colab-df-convert {\n",
              "      background-color: #E8F0FE;\n",
              "      border: none;\n",
              "      border-radius: 50%;\n",
              "      cursor: pointer;\n",
              "      display: none;\n",
              "      fill: #1967D2;\n",
              "      height: 32px;\n",
              "      padding: 0 0 0 0;\n",
              "      width: 32px;\n",
              "    }\n",
              "\n",
              "    .colab-df-convert:hover {\n",
              "      background-color: #E2EBFA;\n",
              "      box-shadow: 0px 1px 2px rgba(60, 64, 67, 0.3), 0px 1px 3px 1px rgba(60, 64, 67, 0.15);\n",
              "      fill: #174EA6;\n",
              "    }\n",
              "\n",
              "    [theme=dark] .colab-df-convert {\n",
              "      background-color: #3B4455;\n",
              "      fill: #D2E3FC;\n",
              "    }\n",
              "\n",
              "    [theme=dark] .colab-df-convert:hover {\n",
              "      background-color: #434B5C;\n",
              "      box-shadow: 0px 1px 3px 1px rgba(0, 0, 0, 0.15);\n",
              "      filter: drop-shadow(0px 1px 2px rgba(0, 0, 0, 0.3));\n",
              "      fill: #FFFFFF;\n",
              "    }\n",
              "  </style>\n",
              "\n",
              "      <script>\n",
              "        const buttonEl =\n",
              "          document.querySelector('#df-b2833385-086c-4884-9434-4b2f8b95cb34 button.colab-df-convert');\n",
              "        buttonEl.style.display =\n",
              "          google.colab.kernel.accessAllowed ? 'block' : 'none';\n",
              "\n",
              "        async function convertToInteractive(key) {\n",
              "          const element = document.querySelector('#df-b2833385-086c-4884-9434-4b2f8b95cb34');\n",
              "          const dataTable =\n",
              "            await google.colab.kernel.invokeFunction('convertToInteractive',\n",
              "                                                     [key], {});\n",
              "          if (!dataTable) return;\n",
              "\n",
              "          const docLinkHtml = 'Like what you see? Visit the ' +\n",
              "            '<a target=\"_blank\" href=https://colab.research.google.com/notebooks/data_table.ipynb>data table notebook</a>'\n",
              "            + ' to learn more about interactive tables.';\n",
              "          element.innerHTML = '';\n",
              "          dataTable['output_type'] = 'display_data';\n",
              "          await google.colab.output.renderOutput(dataTable, element);\n",
              "          const docLink = document.createElement('div');\n",
              "          docLink.innerHTML = docLinkHtml;\n",
              "          element.appendChild(docLink);\n",
              "        }\n",
              "      </script>\n",
              "    </div>\n",
              "  </div>\n"
            ]
          },
          "metadata": {},
          "execution_count": 28
        }
      ]
    },
    {
      "cell_type": "code",
      "source": [
        "#checking our all new data frame info\n",
        "airbnb.info()"
      ],
      "metadata": {
        "colab": {
          "base_uri": "https://localhost:8080/"
        },
        "id": "1iWLFln4Y8yV",
        "outputId": "be917c99-c281-4c51-d3c7-a02ffe6b24b0"
      },
      "execution_count": 29,
      "outputs": [
        {
          "output_type": "stream",
          "name": "stdout",
          "text": [
            "<class 'pandas.core.frame.DataFrame'>\n",
            "RangeIndex: 48895 entries, 0 to 48894\n",
            "Data columns (total 14 columns):\n",
            " #   Column                          Non-Null Count  Dtype  \n",
            "---  ------                          --------------  -----  \n",
            " 0   host_id                         48895 non-null  int64  \n",
            " 1   host_name                       48895 non-null  object \n",
            " 2   neighbourhood_group             48895 non-null  object \n",
            " 3   neighbourhood                   48895 non-null  object \n",
            " 4   latitude                        48895 non-null  float64\n",
            " 5   longitude                       48895 non-null  float64\n",
            " 6   room_type                       48895 non-null  object \n",
            " 7   price                           48895 non-null  int64  \n",
            " 8   minimum_nights                  48895 non-null  int64  \n",
            " 9   number_of_reviews               48895 non-null  int64  \n",
            " 10  reviews_per_month               48895 non-null  float64\n",
            " 11  calculated_host_listings_count  48895 non-null  int64  \n",
            " 12  availability_365                48895 non-null  int64  \n",
            " 13  price_range                     48895 non-null  object \n",
            "dtypes: float64(3), int64(6), object(5)\n",
            "memory usage: 5.2+ MB\n"
          ]
        }
      ]
    },
    {
      "cell_type": "markdown",
      "source": [
        "### What all manipulations have you done and insights you found?"
      ],
      "metadata": {
        "id": "MSa1f5Uengrz"
      }
    },
    {
      "cell_type": "markdown",
      "source": [
        "We hav removed columns which are not reqiored for us in the analysis and also we have removed outliers of extreme price values in both end.\n",
        "We have also added one extra column named price range to simplify our dataset."
      ],
      "metadata": {
        "id": "LbyXE7I1olp8"
      }
    },
    {
      "cell_type": "markdown",
      "source": [
        "## ***4. Data Vizualization, Storytelling & Experimenting with charts : Understand the relationships between variables***"
      ],
      "metadata": {
        "id": "GF8Ens_Soomf"
      }
    },
    {
      "cell_type": "markdown",
      "source": [
        "#### Chart - 1"
      ],
      "metadata": {
        "id": "bamQiAODYuh1"
      }
    },
    {
      "cell_type": "code",
      "source": [
        "# Chart - 1: Total Properties Booked in Different Price Range.\n",
        "\n",
        "#set the plot figure size\n",
        "plt.figure(figsize=(10,8))\n",
        "\n",
        "#set the plot title\n",
        "plt.title('Price-rangewise Different Property Booked',{'fontsize': 18, 'fontweight': 20})\n",
        "\n",
        "#set the order\n",
        "desired_order = ['0-50', '50-100', '100-150', '150-200', '200-250', '250-300', '>300']\n",
        "\n",
        "#plot the chart\n",
        "tb = sns.countplot(x='price_range', hue= 'room_type', data=airbnb, order = desired_order)\n",
        "\n",
        "\n",
        "\n",
        "#set the label\n",
        "plt.ylabel(\"Total Bookings\", {'fontsize': 12, 'fontweight': 15})\n",
        "plt.xlabel('Price Range', {'fontsize': 12, 'fontweight': 15})\n",
        "\n",
        "# labelling of each bars in the plot\n",
        "for container in tb.containers:\n",
        "    tb.bar_label(container)\n",
        "\n",
        "#show plot\n",
        "\n",
        "plt.show()"
      ],
      "metadata": {
        "colab": {
          "base_uri": "https://localhost:8080/",
          "height": 727
        },
        "id": "gLxQ2W6AR6Ca",
        "outputId": "81880f03-38f2-48eb-8ac0-20cf9965628e"
      },
      "execution_count": 52,
      "outputs": [
        {
          "output_type": "display_data",
          "data": {
            "text/plain": [
              "<Figure size 1000x800 with 1 Axes>"
            ],
            "image/png": "[encoded data removed]"
          },
          "metadata": {}
        }
      ]
    },
    {
      "cell_type": "markdown",
      "source": [
        "##### 1. Why did you pick the specific chart?"
      ],
      "metadata": {
        "id": "QHF8YVU7Yuh3"
      }
    },
    {
      "cell_type": "markdown",
      "source": [
        "This chart has been choosen to see the distribution of diiferent properties type in different price range, this will give an inside of availability of different rooms and we will get the inside at each price range what is the number of airbnb that are available."
      ],
      "metadata": {
        "id": "dcxuIMRPYuh3"
      }
    },
    {
      "cell_type": "markdown",
      "source": [
        "##### 2. What is/are the insight(s) found from the chart?"
      ],
      "metadata": {
        "id": "GwzvFGzlYuh3"
      }
    },
    {
      "cell_type": "markdown",
      "source": [
        "###### For private rooms, Within the 50-100 dollars price range we observe that they are booked the most and the number of bookings is highest (12967) among all the catagories. The number of bookings in 0-50 dollars (4291) and 100-150 dollars (3496) price range are also having a high number of bookings but in the higher price range (more than 150 dollars range) the number of bookings for private room type decreases significantly.\n",
        "\n",
        "###### We can conclude that private rooms are relatively affordable mode of accomodation and also they also provide privacy so we see most of the booking in 0-150 dollars price range.\n",
        "\n",
        "###### For the Entire home/apt type of property, we see relatively lesses number of bookings in the lowest price range of 0-50 dollars (117) range while the number of bookings in the rest of the price range in almost uniform and the no of bookings maximizes in 100-150 and 150-200 dollars range (both has over 6000 bookings).\n",
        "\n",
        "###### From this distribution data it is evident that the entire home/apartments are the most luxurious type of accomodation so their bookings stands in comparatively higher price point as compared to others.\n",
        "\n",
        "###### From the porperty distribution chart according to price range we can see that out of all the different room types, the shared rooms are mostly abundant in lower price range. The number of shared rooms within 0-50 price range is highest (619) and it is almost half (387) in 50-100 price range and the total number of properties booked in more than 100 dollars price range in less than 150.\n",
        "###### So we can conclude that guests usually don't like to spend much money in an shared type of accomodation as it is viewed as most affordable option of staying.\n",
        "\n"
      ],
      "metadata": {
        "id": "uyqkiB8YYuh3"
      }
    },
    {
      "cell_type": "markdown",
      "source": [
        "#### Chart - 2"
      ],
      "metadata": {
        "id": "PIIx-8_IphqN"
      }
    },
    {
      "cell_type": "code",
      "source": [
        "# Chart - 2 Room Tyoe-wise Average Price of Rooms Booked in Each Neighbourhood\n",
        "\n",
        "mp = airbnb.groupby(['neighbourhood_group','room_type'])['price'].mean().unstack().plot(kind = 'bar', figsize= (10,6))\n",
        "\n",
        "plt.title('Average price of Room Booked in Each Neighbourhood Group', {'fontsize': 18, 'fontweight': 20})\n",
        "\n",
        "plt.xlabel('Neighbourhood Group', {'fontsize': 12, 'fontweight': 15})\n",
        "plt.ylabel('Price', {'fontsize': 12, 'fontweight': 15})\n",
        "\n",
        "#  labels for each bar\n",
        "for container in mp.containers:\n",
        "    mp.bar_label(container)\n",
        "\n",
        "# show chart\n",
        "plt.show()"
      ],
      "metadata": {
        "colab": {
          "base_uri": "https://localhost:8080/",
          "height": 650
        },
        "id": "rPrYlZlnnyhQ",
        "outputId": "9f7c9229-14cf-4419-f64b-f1310beb5a15"
      },
      "execution_count": 41,
      "outputs": [
        {
          "output_type": "display_data",
          "data": {
            "text/plain": [
              "<Figure size 1000x600 with 1 Axes>"
            ],
            "image/png": "[encoded data removed]"
          },
          "metadata": {}
        }
      ]
    },
    {
      "cell_type": "markdown",
      "source": [
        "##### 1. Why did you pick the specific chart?"
      ],
      "metadata": {
        "id": "t27r6nlMphqO"
      }
    },
    {
      "cell_type": "markdown",
      "source": [
        "With this chart we can see thre avarage price of diiferent properties in the different neighbourhood group.\n"
      ],
      "metadata": {
        "id": "iv6ro40sphqO"
      }
    },
    {
      "cell_type": "markdown",
      "source": [
        "##### 2. What is/are the insight(s) found from the chart?"
      ],
      "metadata": {
        "id": "r2jJGEOYphqO"
      }
    },
    {
      "cell_type": "markdown",
      "source": [
        "###### As predicted in the previous queries we can see that the average price of the entire home/ apartments are the highest and it is significantly higher than the other two options.\n",
        "###### While the average price of private rooms are higher than share room types, the difference between the two are very low. So we see a large number of bookings in the private room types as compared to the shared room types as in private rooms, the guests has the added benifit of privacy in almost similar prices.\n",
        "###### From this barplot we can also see that in all room types the Manhattan area is much more expensive as compared to the other locations, while in the rest of the locations the average price of rooms are almost similar. This further backs up our previous statement of Manhattan being the most expensive location."
      ],
      "metadata": {
        "id": "Po6ZPi4hphqO"
      }
    },
    {
      "cell_type": "markdown",
      "source": [
        "#### Chart - 3"
      ],
      "metadata": {
        "id": "BZR9WyysphqO"
      }
    },
    {
      "cell_type": "code",
      "source": [
        "# Chart - 3: Location-wise Distribution of Property in Different Price Range.\n",
        "\n",
        "# set figure size\n",
        "plt.figure(figsize=(15,9))\n",
        "\n",
        "# set plot title\n",
        "plt.title('Location-wise Property Booked in Different Price Range',{'fontsize': 18, 'fontweight': 20})\n",
        "\n",
        "# set the order\n",
        "desired_order = ['0-50', '50-100', '100-150', '150-200', '200-250', '250-300', '>300']\n",
        "\n",
        "# plot countplot\n",
        "ldr = sns.countplot(x='neighbourhood_group', hue= 'price_range',width = 0.8, data=airbnb, hue_order = desired_order)\n",
        "\n",
        "# labelling of each bars in the plot\n",
        "for container in ldr.containers:\n",
        "    ldr.bar_label(container)\n",
        "\n",
        "# set x-axis and y-axis labels\n",
        "plt.ylabel(\"Total Bookings\", {'fontsize': 12, 'fontweight': 15})\n",
        "plt.xlabel('Neighburhood Group', {'fontsize': 12, 'fontweight': 15})\n",
        "\n",
        "# display figure\n",
        "plt.show()"
      ],
      "metadata": {
        "colab": {
          "base_uri": "https://localhost:8080/",
          "height": 800
        },
        "id": "F9ntRmTSn7nW",
        "outputId": "330be68a-e2bc-40a2-ffb2-610605405c0a"
      },
      "execution_count": 50,
      "outputs": [
        {
          "output_type": "display_data",
          "data": {
            "text/plain": [
              "<Figure size 1500x900 with 1 Axes>"
            ],
            "image/png": "[encoded data removed]"
          },
          "metadata": {}
        }
      ]
    },
    {
      "cell_type": "markdown",
      "source": [
        "##### 1. Why did you pick the specific chart?"
      ],
      "metadata": {
        "id": "jj7wYXLtphqO"
      }
    },
    {
      "cell_type": "markdown",
      "source": [
        "Here we can see the total no of bookings in each neighbourhood group in each price range."
      ],
      "metadata": {
        "id": "Ob8u6rCTphqO"
      }
    },
    {
      "cell_type": "markdown",
      "source": [
        "##### 2. What is/are the insight(s) found from the chart?"
      ],
      "metadata": {
        "id": "eZrbJ2SmphqO"
      }
    },
    {
      "cell_type": "markdown",
      "source": [
        "###### We can see that in all the locations, the properties within the price range of 50-100 dollars are the most booked properties followed by the properties in 0-50 dollars price range. But in case of **Manhattan** we can see that properties in higher price range are almost as popular as the 50-100 dollar range. So this further concludes our previous scatterplot statement of Manhattan being the most expensive location."
      ],
      "metadata": {
        "id": "mZtgC_hjphqO"
      }
    },
    {
      "cell_type": "markdown",
      "source": [
        "#### Chart - 4"
      ],
      "metadata": {
        "id": "n3dbpmDWp1ck"
      }
    },
    {
      "cell_type": "code",
      "source": [
        "# Chart - 4: Room-type-wise Total price for each neighbourhood group.\n",
        "\n",
        "# define a new dataset for total revenue\n",
        "total_revenue = airbnb.groupby(['room_type'])['price'].sum()\n",
        "\n",
        "# plot the dataset\n",
        "ti = total_revenue.plot(kind = 'bar', figsize= (12,6))\n",
        "\n",
        "# set plot title\n",
        "plt.title('Total Revenue for Each Type of Room Booked', {'fontsize': 18, 'fontweight': 20})\n",
        "\n",
        "# set x-axis and y-axis labels\n",
        "plt.ylabel('Total Income', {'fontsize': 12, 'fontweight': 15})\n",
        "plt.xlabel('Room Types', {'fontsize': 12, 'fontweight': 15})\n",
        "\n",
        "#  labels for each bar\n",
        "for container in ti.containers:\n",
        "    ti.bar_label(container)\n",
        "\n",
        "# display figure\n",
        "plt.show()"
      ],
      "metadata": {
        "id": "bwevp1tKp1ck",
        "colab": {
          "base_uri": "https://localhost:8080/",
          "height": 671
        },
        "outputId": "8e1db8a6-61f6-44fe-8038-f6da4a97f56c"
      },
      "execution_count": 49,
      "outputs": [
        {
          "output_type": "display_data",
          "data": {
            "text/plain": [
              "<Figure size 1200x600 with 1 Axes>"
            ],
            "image/png": "[encoded data removed]"
          },
          "metadata": {}
        }
      ]
    },
    {
      "cell_type": "markdown",
      "source": [
        "##### 1. Why did you pick the specific chart?"
      ],
      "metadata": {
        "id": "ylSl6qgtp1ck"
      }
    },
    {
      "cell_type": "markdown",
      "source": [
        "We have to check the total income generated by each type of rooms.\n"
      ],
      "metadata": {
        "id": "m2xqNkiQp1ck"
      }
    },
    {
      "cell_type": "markdown",
      "source": [
        "##### 2. What is/are the insight(s) found from the chart?"
      ],
      "metadata": {
        "id": "ZWILFDl5p1ck"
      }
    },
    {
      "cell_type": "markdown",
      "source": [
        "We can see that the entire home/apartment is the most popular mode of bookinhg and it also generates the most money, followed by private rooms which also generates a good amount of money but the share room types properties are the least popular and also generates the least money."
      ],
      "metadata": {
        "id": "x-lUsV2mp1ck"
      }
    },
    {
      "cell_type": "markdown",
      "source": [
        "#### Chart - 5"
      ],
      "metadata": {
        "id": "0lDatvhWz-LW"
      }
    },
    {
      "cell_type": "code",
      "source": [
        "# Chart - 5: Neighbourhood group-wise Total price for each neighbourhood group.\n",
        "\n",
        "# define a new dataset for total revenue\n",
        "total_revenue = airbnb.groupby(['neighbourhood_group'])['price'].sum()\n",
        "\n",
        "# plot the dataset\n",
        "tn = total_revenue.plot(kind = 'bar', figsize= (12,6))\n",
        "\n",
        "# set plot title\n",
        "plt.title('Total Revenue from Each Neighbourhood Group', {'fontsize': 18, 'fontweight': 20})\n",
        "\n",
        "# set x-axis and y-axis labels\n",
        "plt.ylabel('Total Income', {'fontsize': 12, 'fontweight': 15})\n",
        "plt.xlabel('Neighbourhood_group', {'fontsize': 12, 'fontweight': 15})\n",
        "\n",
        "#  labels for each bar\n",
        "for container in tn.containers:\n",
        "    tn.bar_label(container)\n",
        "\n",
        "# display figure\n",
        "plt.show()"
      ],
      "metadata": {
        "colab": {
          "base_uri": "https://localhost:8080/",
          "height": 651
        },
        "id": "8g490A8z0G8c",
        "outputId": "38fdb7ae-e8dd-4f27-f8fd-889484e6582d"
      },
      "execution_count": 48,
      "outputs": [
        {
          "output_type": "display_data",
          "data": {
            "text/plain": [
              "<Figure size 1200x600 with 1 Axes>"
            ],
            "image/png": "[encoded data removed]"
          },
          "metadata": {}
        }
      ]
    },
    {
      "cell_type": "markdown",
      "source": [
        "##### 1. Why did you pick the specific chart?"
      ],
      "metadata": {
        "id": "-BF_VUTG08ul"
      }
    },
    {
      "cell_type": "markdown",
      "source": [
        "We have to check the total revenue generated in each neighbourhood area."
      ],
      "metadata": {
        "id": "2QDUuaWw1FXD"
      }
    },
    {
      "cell_type": "markdown",
      "source": [
        "##### 2. What is/are the insight(s) found from the chart?"
      ],
      "metadata": {
        "id": "j8orkeFD1aLZ"
      }
    },
    {
      "cell_type": "markdown",
      "source": [
        "We can see that Manhattan generates the most amount of revenue followed by Brooklyn and Queens. The revenue in Bronx and Staten Island is very minimal as compared to the rest."
      ],
      "metadata": {
        "id": "CwemWgRJ1hO7"
      }
    },
    {
      "cell_type": "markdown",
      "source": [
        "#### Chart - 6"
      ],
      "metadata": {
        "id": "IOoUjYyQ2Dkc"
      }
    },
    {
      "cell_type": "code",
      "source": [
        "# Chart - 6: Room-type-wise Total price for each neighbourhood group.\n",
        "\n",
        "# define a new dataset for total revenue\n",
        "total_revenue = airbnb.groupby(['neighbourhood_group','room_type'])['price'].sum().unstack()\n",
        "\n",
        "# plot the dataset\n",
        "tr = total_revenue.plot(kind = 'barh', figsize= (12,6))\n",
        "\n",
        "# set plot title\n",
        "plt.title('Total Revenue from Each Type of Room Booked in Each Neighbourhood Group', {'fontsize': 18, 'fontweight': 20})\n",
        "\n",
        "# set x-axis and y-axis labels\n",
        "plt.xlabel('Total Income', {'fontsize': 12, 'fontweight': 15})\n",
        "plt.ylabel('neighbourhood_group', {'fontsize': 12, 'fontweight': 15})\n",
        "\n",
        "#  labels for each bar\n",
        "for container in tr.containers:\n",
        "    tr.bar_label(container)\n",
        "\n",
        "# display figure\n",
        "plt.show()"
      ],
      "metadata": {
        "colab": {
          "base_uri": "https://localhost:8080/",
          "height": 573
        },
        "id": "8d9t00oB2FdR",
        "outputId": "72f1ec81-6cef-4abd-b1c9-b150eb29be7b"
      },
      "execution_count": 51,
      "outputs": [
        {
          "output_type": "display_data",
          "data": {
            "text/plain": [
              "<Figure size 1200x600 with 1 Axes>"
            ],
            "image/png": "[encoded data removed]"
          },
          "metadata": {}
        }
      ]
    },
    {
      "cell_type": "markdown",
      "source": [
        "##### 1. Why did you pick the specific chart?"
      ],
      "metadata": {
        "id": "-1upoyTg2cZk"
      }
    },
    {
      "cell_type": "markdown",
      "source": [
        "###### This chart will help us to understand the the total revenue that is generating in each neighbourhood group for each property types."
      ],
      "metadata": {
        "id": "26FZ3Scg2neA"
      }
    },
    {
      "cell_type": "markdown",
      "source": [
        "##### 2. What is/are the insight(s) found from the chart?"
      ],
      "metadata": {
        "id": "uFLheCS12qAw"
      }
    },
    {
      "cell_type": "markdown",
      "source": [
        "###### In terms of revenue generated from AIRBNB, we can see that the Manhattan location generated the most amount of money as already we have seen in problem number 3 and problem number 4, that Manhattan sees the most number of bookings and the price range of bookings is higher at this location.\n",
        "\n",
        "###### Brooklyn is the second most revenue generating location and Queens is third in the list and as the trend of number of bookings indicates, the revenue generated from Bronx and Staten Island locations are the lowest."
      ],
      "metadata": {
        "id": "GVQd0O-S2zGt"
      }
    },
    {
      "cell_type": "markdown",
      "source": [
        "## ***5. Solution to Business Objetives***"
      ],
      "metadata": {
        "id": "JcMwzZxoAimU"
      }
    },
    {
      "cell_type": "markdown",
      "source": [
        "#### What do you suggest the client to achieve Business Objective ?\n",
        "Explain Briefly."
      ],
      "metadata": {
        "id": "8G2x9gOozGDZ"
      }
    },
    {
      "cell_type": "markdown",
      "source": [
        "From the above datasets we can see that the most revenue is generated from the entire home/apartment types of property, while the neighbourhood area that is the most revenue generating is Manhattan followed by Brooklyn and Queens.\n",
        "The avarage price of entire home/apartment types of properties in Manhattan area is around 250 dollars but the total no of bookings in this type of properties is consistent throughout 100 dollars to 300 dollars range.\n",
        "Wile the private room type of properties are more popular in lower price rnge of 0-100 dollars."
      ],
      "metadata": {
        "id": "pASKb0qOza21"
      }
    },
    {
      "cell_type": "markdown",
      "source": [
        "# ***Conclusion***"
      ],
      "metadata": {
        "id": "gCX9965dhzqZ"
      }
    },
    {
      "cell_type": "markdown",
      "source": [
        "So, for a business in New York City the best neighbourhood group to have a AIRBNB is Manhattan followed by Brooklyn and the property type should be either an enire home/apartment or private rooms. For private rooms the price of the room has to be in the lower range of 0-100 dollars while a good apartment/home can generate somewhere between 150-300 dollars consistently."
      ],
      "metadata": {
        "id": "Fjb1IsQkh3yE"
      }
    },
    {
      "cell_type": "markdown",
      "source": [
        "### ***Hurrah! You have successfully completed your EDA Capstone Project !!!***"
      ],
      "metadata": {
        "id": "gIfDvo9L0UH2"
      }
    }
  ]
}